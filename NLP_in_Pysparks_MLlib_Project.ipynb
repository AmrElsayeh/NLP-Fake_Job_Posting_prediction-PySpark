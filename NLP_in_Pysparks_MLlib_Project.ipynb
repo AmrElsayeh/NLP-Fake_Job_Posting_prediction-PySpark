{
 "cells": [
  {
   "cell_type": "markdown",
   "metadata": {
    "id": "cQPfmjkQKHuV"
   },
   "source": [
    "# NLP in Pyspark's MLlib Project\n",
    "\n",
    "## Fake Job Posting Predictions\n",
    "\n",
    "Indeed.com has just hired you to create a system that automatically flags suspicious job postings on it's website. It has recently seen an influx of fake job postings that is negativley impacting it's customer experience. Becuase of the high volume of job postings it receives everyday, their employees do have the capacity to check every posting so they would like prioritize which postings to review before deleting it. \n",
    "\n",
    "#### The data\n",
    "This dataset contains 18K job descriptions out of which about 800 are fake. The data consists of both textual information and meta-information about the jobs.\n",
    "\n",
    "**Data Source:** https://www.kaggle.com/shivamb/real-or-fake-fake-jobposting-prediction\n",
    "\n",
    "#### Have fun!"
   ]
  },
  {
   "cell_type": "code",
   "execution_count": 1,
   "metadata": {},
   "outputs": [
    {
     "name": "stdout",
     "output_type": "stream",
     "text": [
      "You are working with 1 core(s)\n"
     ]
    },
    {
     "data": {
      "text/html": [
       "\n",
       "            <div>\n",
       "                <p><b>SparkSession - in-memory</b></p>\n",
       "                \n",
       "        <div>\n",
       "            <p><b>SparkContext</b></p>\n",
       "\n",
       "            <p><a href=\"http://9fd44037aad5:4040\">Spark UI</a></p>\n",
       "\n",
       "            <dl>\n",
       "              <dt>Version</dt>\n",
       "                <dd><code>v3.3.1</code></dd>\n",
       "              <dt>Master</dt>\n",
       "                <dd><code>local[*]</code></dd>\n",
       "              <dt>AppName</dt>\n",
       "                <dd><code>NLP_project</code></dd>\n",
       "            </dl>\n",
       "        </div>\n",
       "        \n",
       "            </div>\n",
       "        "
      ],
      "text/plain": [
       "<pyspark.sql.session.SparkSession at 0x7f40a063ca30>"
      ]
     },
     "execution_count": 1,
     "metadata": {},
     "output_type": "execute_result"
    }
   ],
   "source": [
    "# First let's create our PySpark instance\n",
    "\n",
    "import pyspark # only run after findspark.init()\n",
    "from pyspark.sql import SparkSession\n",
    "# May take awhile locally\n",
    "spark = SparkSession.builder.appName(\"NLP_project\").getOrCreate()\n",
    "\n",
    "cores = spark._jsc.sc().getExecutorMemoryStatus().keySet().size()\n",
    "print(\"You are working with\", cores, \"core(s)\")\n",
    "spark"
   ]
  },
  {
   "cell_type": "code",
   "execution_count": 2,
   "metadata": {},
   "outputs": [],
   "source": [
    "from pyspark.ml.feature import * \n",
    "from pyspark.sql.functions import *\n",
    "from pyspark.sql.types import *\n",
    "from pyspark.ml.classification import *\n",
    "from pyspark.ml.evaluation import *\n",
    "from pyspark.ml.tuning import *\n",
    "\n",
    "# For pipeline development\n",
    "from pyspark.ml import Pipeline"
   ]
  },
  {
   "cell_type": "code",
   "execution_count": 3,
   "metadata": {
    "id": "UECyMJPYKHvE"
   },
   "outputs": [
    {
     "name": "stdout",
     "output_type": "stream",
     "text": [
      " beatsdataset.csv\t housing.csv\n",
      " Concrete_Data_Yeh.csv\t kickstarter.csv\n",
      " fake_job_postings.csv\t'Toddler Autism dataset July 2018.csv'\n"
     ]
    }
   ],
   "source": [
    "!ls Datasets/"
   ]
  },
  {
   "cell_type": "code",
   "execution_count": 4,
   "metadata": {
    "id": "YadiBKBJKHvH"
   },
   "outputs": [],
   "source": [
    "path = \"Datasets/\"\n",
    "df = spark.read.csv(path+'fake_job_postings.csv',inferSchema=True,header=True)"
   ]
  },
  {
   "cell_type": "code",
   "execution_count": 5,
   "metadata": {
    "id": "WNCGVciyKHvI"
   },
   "outputs": [
    {
     "data": {
      "text/html": [
       "<div>\n",
       "<style scoped>\n",
       "    .dataframe tbody tr th:only-of-type {\n",
       "        vertical-align: middle;\n",
       "    }\n",
       "\n",
       "    .dataframe tbody tr th {\n",
       "        vertical-align: top;\n",
       "    }\n",
       "\n",
       "    .dataframe thead th {\n",
       "        text-align: right;\n",
       "    }\n",
       "</style>\n",
       "<table border=\"1\" class=\"dataframe\">\n",
       "  <thead>\n",
       "    <tr style=\"text-align: right;\">\n",
       "      <th></th>\n",
       "      <th>job_id</th>\n",
       "      <th>title</th>\n",
       "      <th>location</th>\n",
       "      <th>department</th>\n",
       "      <th>salary_range</th>\n",
       "      <th>company_profile</th>\n",
       "      <th>description</th>\n",
       "      <th>requirements</th>\n",
       "      <th>benefits</th>\n",
       "      <th>telecommuting</th>\n",
       "      <th>has_company_logo</th>\n",
       "      <th>has_questions</th>\n",
       "      <th>employment_type</th>\n",
       "      <th>required_experience</th>\n",
       "      <th>required_education</th>\n",
       "      <th>industry</th>\n",
       "      <th>function</th>\n",
       "      <th>fraudulent</th>\n",
       "    </tr>\n",
       "  </thead>\n",
       "  <tbody>\n",
       "    <tr>\n",
       "      <th>0</th>\n",
       "      <td>1</td>\n",
       "      <td>Marketing Intern</td>\n",
       "      <td>US, NY, New York</td>\n",
       "      <td>Marketing</td>\n",
       "      <td>None</td>\n",
       "      <td>We're Food52, and we've created a groundbreaki...</td>\n",
       "      <td>Food52, a fast-growing, James Beard Award-winn...</td>\n",
       "      <td>Experience with content management systems a m...</td>\n",
       "      <td>None</td>\n",
       "      <td>0</td>\n",
       "      <td>1</td>\n",
       "      <td>0</td>\n",
       "      <td>Other</td>\n",
       "      <td>Internship</td>\n",
       "      <td>None</td>\n",
       "      <td>None</td>\n",
       "      <td>Marketing</td>\n",
       "      <td>0</td>\n",
       "    </tr>\n",
       "    <tr>\n",
       "      <th>1</th>\n",
       "      <td>2</td>\n",
       "      <td>Customer Service - Cloud Video Production</td>\n",
       "      <td>NZ, , Auckland</td>\n",
       "      <td>Success</td>\n",
       "      <td>None</td>\n",
       "      <td>90 Seconds, the worlds Cloud Video Production ...</td>\n",
       "      <td>Organised - Focused - Vibrant - Awesome!Do you...</td>\n",
       "      <td>What we expect from you:Your key responsibilit...</td>\n",
       "      <td>What you will get from usThrough being part of...</td>\n",
       "      <td>0</td>\n",
       "      <td>1</td>\n",
       "      <td>0</td>\n",
       "      <td>Full-time</td>\n",
       "      <td>Not Applicable</td>\n",
       "      <td>None</td>\n",
       "      <td>Marketing and Advertising</td>\n",
       "      <td>Customer Service</td>\n",
       "      <td>0</td>\n",
       "    </tr>\n",
       "    <tr>\n",
       "      <th>2</th>\n",
       "      <td>3</td>\n",
       "      <td>Commissioning Machinery Assistant (CMA)</td>\n",
       "      <td>US, IA, Wever</td>\n",
       "      <td>None</td>\n",
       "      <td>None</td>\n",
       "      <td>Valor Services provides Workforce Solutions th...</td>\n",
       "      <td>Our client, located in Houston, is actively se...</td>\n",
       "      <td>Implement pre-commissioning and commissioning ...</td>\n",
       "      <td>None</td>\n",
       "      <td>0</td>\n",
       "      <td>1</td>\n",
       "      <td>0</td>\n",
       "      <td>None</td>\n",
       "      <td>None</td>\n",
       "      <td>None</td>\n",
       "      <td>None</td>\n",
       "      <td>None</td>\n",
       "      <td>0</td>\n",
       "    </tr>\n",
       "    <tr>\n",
       "      <th>3</th>\n",
       "      <td>4</td>\n",
       "      <td>Account Executive - Washington DC</td>\n",
       "      <td>US, DC, Washington</td>\n",
       "      <td>Sales</td>\n",
       "      <td>None</td>\n",
       "      <td>Our passion for improving quality of life thro...</td>\n",
       "      <td>THE COMPANY: ESRI – Environmental Systems Rese...</td>\n",
       "      <td>EDUCATION: Bachelor’s or Master’s in GIS, busi...</td>\n",
       "      <td>Our culture is anything but corporate—we have ...</td>\n",
       "      <td>0</td>\n",
       "      <td>1</td>\n",
       "      <td>0</td>\n",
       "      <td>Full-time</td>\n",
       "      <td>Mid-Senior level</td>\n",
       "      <td>Bachelor's Degree</td>\n",
       "      <td>Computer Software</td>\n",
       "      <td>Sales</td>\n",
       "      <td>0</td>\n",
       "    </tr>\n",
       "  </tbody>\n",
       "</table>\n",
       "</div>"
      ],
      "text/plain": [
       "   job_id                                      title            location  \\\n",
       "0       1                           Marketing Intern    US, NY, New York   \n",
       "1       2  Customer Service - Cloud Video Production      NZ, , Auckland   \n",
       "2       3    Commissioning Machinery Assistant (CMA)       US, IA, Wever   \n",
       "3       4          Account Executive - Washington DC  US, DC, Washington   \n",
       "\n",
       "  department salary_range                                    company_profile  \\\n",
       "0  Marketing         None  We're Food52, and we've created a groundbreaki...   \n",
       "1    Success         None  90 Seconds, the worlds Cloud Video Production ...   \n",
       "2       None         None  Valor Services provides Workforce Solutions th...   \n",
       "3      Sales         None  Our passion for improving quality of life thro...   \n",
       "\n",
       "                                         description  \\\n",
       "0  Food52, a fast-growing, James Beard Award-winn...   \n",
       "1  Organised - Focused - Vibrant - Awesome!Do you...   \n",
       "2  Our client, located in Houston, is actively se...   \n",
       "3  THE COMPANY: ESRI – Environmental Systems Rese...   \n",
       "\n",
       "                                        requirements  \\\n",
       "0  Experience with content management systems a m...   \n",
       "1  What we expect from you:Your key responsibilit...   \n",
       "2  Implement pre-commissioning and commissioning ...   \n",
       "3  EDUCATION: Bachelor’s or Master’s in GIS, busi...   \n",
       "\n",
       "                                            benefits telecommuting  \\\n",
       "0                                               None             0   \n",
       "1  What you will get from usThrough being part of...             0   \n",
       "2                                               None             0   \n",
       "3  Our culture is anything but corporate—we have ...             0   \n",
       "\n",
       "  has_company_logo has_questions employment_type required_experience  \\\n",
       "0                1             0           Other          Internship   \n",
       "1                1             0       Full-time      Not Applicable   \n",
       "2                1             0            None                None   \n",
       "3                1             0       Full-time    Mid-Senior level   \n",
       "\n",
       "  required_education                   industry          function fraudulent  \n",
       "0               None                       None         Marketing          0  \n",
       "1               None  Marketing and Advertising  Customer Service          0  \n",
       "2               None                       None              None          0  \n",
       "3  Bachelor's Degree          Computer Software             Sales          0  "
      ]
     },
     "execution_count": 5,
     "metadata": {},
     "output_type": "execute_result"
    }
   ],
   "source": [
    "df.limit(4).toPandas()"
   ]
  },
  {
   "cell_type": "code",
   "execution_count": 6,
   "metadata": {
    "id": "eQZeT9frKHvJ"
   },
   "outputs": [
    {
     "name": "stdout",
     "output_type": "stream",
     "text": [
      "root\n",
      " |-- job_id: integer (nullable = true)\n",
      " |-- title: string (nullable = true)\n",
      " |-- location: string (nullable = true)\n",
      " |-- department: string (nullable = true)\n",
      " |-- salary_range: string (nullable = true)\n",
      " |-- company_profile: string (nullable = true)\n",
      " |-- description: string (nullable = true)\n",
      " |-- requirements: string (nullable = true)\n",
      " |-- benefits: string (nullable = true)\n",
      " |-- telecommuting: string (nullable = true)\n",
      " |-- has_company_logo: string (nullable = true)\n",
      " |-- has_questions: string (nullable = true)\n",
      " |-- employment_type: string (nullable = true)\n",
      " |-- required_experience: string (nullable = true)\n",
      " |-- required_education: string (nullable = true)\n",
      " |-- industry: string (nullable = true)\n",
      " |-- function: string (nullable = true)\n",
      " |-- fraudulent: string (nullable = true)\n",
      "\n"
     ]
    }
   ],
   "source": [
    "df.printSchema()"
   ]
  },
  {
   "cell_type": "code",
   "execution_count": 7,
   "metadata": {},
   "outputs": [],
   "source": [
    "# df.groupBy('fraudulent').count().orderBy(col('count').desc()).show(truncate=False)"
   ]
  },
  {
   "cell_type": "markdown",
   "metadata": {},
   "source": [
    "# Cleaning Data"
   ]
  },
  {
   "cell_type": "code",
   "execution_count": 8,
   "metadata": {},
   "outputs": [],
   "source": [
    "#drop job_id 3alshn malosh lazma\n",
    "df = df.drop('job_id')"
   ]
  },
  {
   "cell_type": "code",
   "execution_count": 9,
   "metadata": {},
   "outputs": [
    {
     "name": "stdout",
     "output_type": "stream",
     "text": [
      "+-------------------+-----------------+--------------------+\n",
      "|        Column_Name|Null_Values_Count|  Null_Value_Percent|\n",
      "+-------------------+-----------------+--------------------+\n",
      "|           location|              346|  1.9351230425055927|\n",
      "|         department|            11547|   64.58053691275167|\n",
      "|       salary_range|            15011|   83.95413870246085|\n",
      "|    company_profile|             3308|  18.501118568232663|\n",
      "|        description|                1|0.005592841163310962|\n",
      "|       requirements|             2573|  14.390380313199106|\n",
      "|           benefits|             6966|   38.95973154362416|\n",
      "|      telecommuting|               89| 0.49776286353467564|\n",
      "|   has_company_logo|               29|  0.1621923937360179|\n",
      "|      has_questions|               30| 0.16778523489932887|\n",
      "|    employment_type|             3292|   18.41163310961969|\n",
      "|required_experience|             6723|  37.600671140939596|\n",
      "| required_education|             7748|  43.333333333333336|\n",
      "|           industry|             4831|  27.019015659955258|\n",
      "|           function|             6317|   35.32997762863535|\n",
      "|         fraudulent|              176|  0.9843400447427294|\n",
      "+-------------------+-----------------+--------------------+\n",
      "\n"
     ]
    }
   ],
   "source": [
    "def null_value_calc(df):\n",
    "    null_columns_counts = []\n",
    "    numRows = df.count()\n",
    "    for k in df.columns:\n",
    "        nullRows = df.where(col(k).isNull()).count()\n",
    "        if(nullRows > 0):\n",
    "            temp = k,nullRows,(nullRows/numRows)*100\n",
    "            null_columns_counts.append(temp)\n",
    "    return(null_columns_counts)\n",
    "\n",
    "null_columns_calc_list = null_value_calc(df)\n",
    "spark.createDataFrame(null_columns_calc_list, ['Column_Name', 'Null_Values_Count','Null_Value_Percent']).show()"
   ]
  },
  {
   "cell_type": "code",
   "execution_count": 10,
   "metadata": {},
   "outputs": [
    {
     "name": "stdout",
     "output_type": "stream",
     "text": [
      "Total Rows that contain at least one null value: 17094\n",
      "Percentage of Rows that contain at least one null value: 0.9560402684563758\n"
     ]
    }
   ],
   "source": [
    "# Of course you will want to know how many rows that affected before you actually execute it..\n",
    "og_len = df.count()\n",
    "drop_len = df.na.drop().count()\n",
    "print(\"Total Rows that contain at least one null value:\",og_len-drop_len)\n",
    "print(\"Percentage of Rows that contain at least one null value:\", (og_len-drop_len)/og_len)"
   ]
  },
  {
   "cell_type": "markdown",
   "metadata": {
    "tags": []
   },
   "source": [
    "### Couldn't drop the all the rows with null values\n",
    "- So, I will drop the columns that contain more than 15% nulls"
   ]
  },
  {
   "cell_type": "code",
   "execution_count": 11,
   "metadata": {},
   "outputs": [],
   "source": [
    "drop_columns = ('department','salary_range','company_profile','benefits','employment_type','required_experience','required_education','industry','function')\n",
    "\n",
    "df = df.drop(*drop_columns)"
   ]
  },
  {
   "cell_type": "code",
   "execution_count": 12,
   "metadata": {},
   "outputs": [
    {
     "name": "stdout",
     "output_type": "stream",
     "text": [
      "root\n",
      " |-- title: string (nullable = true)\n",
      " |-- location: string (nullable = true)\n",
      " |-- description: string (nullable = true)\n",
      " |-- requirements: string (nullable = true)\n",
      " |-- telecommuting: string (nullable = true)\n",
      " |-- has_company_logo: string (nullable = true)\n",
      " |-- has_questions: string (nullable = true)\n",
      " |-- fraudulent: string (nullable = true)\n",
      "\n"
     ]
    }
   ],
   "source": [
    "df.printSchema()"
   ]
  },
  {
   "cell_type": "code",
   "execution_count": 13,
   "metadata": {},
   "outputs": [],
   "source": [
    "# drop dubplicated rows\n",
    "df = df.dropDuplicates()"
   ]
  },
  {
   "cell_type": "code",
   "execution_count": 14,
   "metadata": {},
   "outputs": [],
   "source": [
    "# Drop the null values\n",
    "# It's only about 16% so that's okay\n",
    "df = df.dropna()"
   ]
  },
  {
   "cell_type": "code",
   "execution_count": 15,
   "metadata": {
    "id": "BahgZStCKHvK"
   },
   "outputs": [],
   "source": [
    "# Cleaning the misleading data\n",
    "df = df.filter(\"fraudulent IN('0','1')\")\n",
    "df = df.filter(\"has_questions IN('0','1')\")\n",
    "df = df.filter(\"has_company_logo IN('0','1')\")\n",
    "df = df.filter(\"telecommuting IN('0','1')\")"
   ]
  },
  {
   "cell_type": "code",
   "execution_count": 16,
   "metadata": {},
   "outputs": [
    {
     "name": "stdout",
     "output_type": "stream",
     "text": [
      "root\n",
      " |-- title: string (nullable = true)\n",
      " |-- location: string (nullable = true)\n",
      " |-- description: string (nullable = true)\n",
      " |-- requirements: string (nullable = true)\n",
      " |-- telecommuting: integer (nullable = true)\n",
      " |-- has_company_logo: integer (nullable = true)\n",
      " |-- has_questions: integer (nullable = true)\n",
      " |-- fraudulent: integer (nullable = true)\n",
      "\n",
      "None\n"
     ]
    }
   ],
   "source": [
    "# now change the data type to be integer after cleaning the misleading data in those columns \n",
    "df = df.withColumn(\"fraudulent\", df[\"fraudulent\"].cast(IntegerType())) \\\n",
    "        .withColumn(\"has_questions\", df[\"has_questions\"].cast(IntegerType())) \\\n",
    "        .withColumn(\"has_company_logo\",df.has_company_logo.cast(IntegerType())) \\\n",
    "        .withColumn(\"telecommuting\",df.telecommuting.cast(IntegerType()))\n",
    "#QA\n",
    "print(df.printSchema())"
   ]
  },
  {
   "cell_type": "code",
   "execution_count": 17,
   "metadata": {},
   "outputs": [
    {
     "data": {
      "text/plain": [
       "13790"
      ]
     },
     "execution_count": 17,
     "metadata": {},
     "output_type": "execute_result"
    }
   ],
   "source": [
    "df.count()"
   ]
  },
  {
   "cell_type": "code",
   "execution_count": 18,
   "metadata": {
    "tags": []
   },
   "outputs": [
    {
     "data": {
      "text/html": [
       "<div>\n",
       "<style scoped>\n",
       "    .dataframe tbody tr th:only-of-type {\n",
       "        vertical-align: middle;\n",
       "    }\n",
       "\n",
       "    .dataframe tbody tr th {\n",
       "        vertical-align: top;\n",
       "    }\n",
       "\n",
       "    .dataframe thead th {\n",
       "        text-align: right;\n",
       "    }\n",
       "</style>\n",
       "<table border=\"1\" class=\"dataframe\">\n",
       "  <thead>\n",
       "    <tr style=\"text-align: right;\">\n",
       "      <th></th>\n",
       "      <th>summary</th>\n",
       "      <th>title</th>\n",
       "      <th>location</th>\n",
       "      <th>description</th>\n",
       "      <th>requirements</th>\n",
       "      <th>telecommuting</th>\n",
       "      <th>has_company_logo</th>\n",
       "      <th>has_questions</th>\n",
       "      <th>fraudulent</th>\n",
       "    </tr>\n",
       "  </thead>\n",
       "  <tbody>\n",
       "    <tr>\n",
       "      <th>0</th>\n",
       "      <td>count</td>\n",
       "      <td>13790</td>\n",
       "      <td>13790</td>\n",
       "      <td>13790</td>\n",
       "      <td>13790</td>\n",
       "      <td>13790</td>\n",
       "      <td>13790</td>\n",
       "      <td>13790</td>\n",
       "      <td>13790</td>\n",
       "    </tr>\n",
       "    <tr>\n",
       "      <th>1</th>\n",
       "      <td>min</td>\n",
       "      <td>Environmental Technician I</td>\n",
       "      <td>AE, ,</td>\n",
       "      <td>Normal  0          false  false  false    E...</td>\n",
       "      <td>Normal  0   Confident yet easy-going; firm ...</td>\n",
       "      <td>0</td>\n",
       "      <td>0</td>\n",
       "      <td>0</td>\n",
       "      <td>0</td>\n",
       "    </tr>\n",
       "    <tr>\n",
       "      <th>2</th>\n",
       "      <td>25%</td>\n",
       "      <td>None</td>\n",
       "      <td>None</td>\n",
       "      <td>None</td>\n",
       "      <td>None</td>\n",
       "      <td>0</td>\n",
       "      <td>1</td>\n",
       "      <td>0</td>\n",
       "      <td>0</td>\n",
       "    </tr>\n",
       "    <tr>\n",
       "      <th>3</th>\n",
       "      <td>75%</td>\n",
       "      <td>None</td>\n",
       "      <td>None</td>\n",
       "      <td>None</td>\n",
       "      <td>None</td>\n",
       "      <td>0</td>\n",
       "      <td>1</td>\n",
       "      <td>1</td>\n",
       "      <td>0</td>\n",
       "    </tr>\n",
       "    <tr>\n",
       "      <th>4</th>\n",
       "      <td>max</td>\n",
       "      <td>~ LM Structures - Expression of Interest for F...</td>\n",
       "      <td>ZM, ,</td>\n",
       "      <td>￼￼Create, maintain and adjust portfolio of ass...</td>\n",
       "      <td> Strong working knowledge of quantitative res...</td>\n",
       "      <td>1</td>\n",
       "      <td>1</td>\n",
       "      <td>1</td>\n",
       "      <td>1</td>\n",
       "    </tr>\n",
       "  </tbody>\n",
       "</table>\n",
       "</div>"
      ],
      "text/plain": [
       "  summary                                              title location  \\\n",
       "0   count                                              13790    13790   \n",
       "1     min                         Environmental Technician I   AE, ,    \n",
       "2     25%                                               None     None   \n",
       "3     75%                                               None     None   \n",
       "4     max  ~ LM Structures - Expression of Interest for F...   ZM, ,    \n",
       "\n",
       "                                         description  \\\n",
       "0                                              13790   \n",
       "1     Normal  0          false  false  false    E...   \n",
       "2                                               None   \n",
       "3                                               None   \n",
       "4  ￼￼Create, maintain and adjust portfolio of ass...   \n",
       "\n",
       "                                        requirements telecommuting  \\\n",
       "0                                              13790         13790   \n",
       "1     Normal  0   Confident yet easy-going; firm ...             0   \n",
       "2                                               None             0   \n",
       "3                                               None             0   \n",
       "4   Strong working knowledge of quantitative res...             1   \n",
       "\n",
       "  has_company_logo has_questions fraudulent  \n",
       "0            13790         13790      13790  \n",
       "1                0             0          0  \n",
       "2                1             0          0  \n",
       "3                1             1          0  \n",
       "4                1             1          1  "
      ]
     },
     "execution_count": 18,
     "metadata": {},
     "output_type": "execute_result"
    }
   ],
   "source": [
    "summary = df.summary(\"count\", \"min\", \"25%\", \"75%\", \"max\")\n",
    "summary.toPandas()"
   ]
  },
  {
   "cell_type": "code",
   "execution_count": 19,
   "metadata": {},
   "outputs": [
    {
     "data": {
      "text/html": [
       "<div>\n",
       "<style scoped>\n",
       "    .dataframe tbody tr th:only-of-type {\n",
       "        vertical-align: middle;\n",
       "    }\n",
       "\n",
       "    .dataframe tbody tr th {\n",
       "        vertical-align: top;\n",
       "    }\n",
       "\n",
       "    .dataframe thead th {\n",
       "        text-align: right;\n",
       "    }\n",
       "</style>\n",
       "<table border=\"1\" class=\"dataframe\">\n",
       "  <thead>\n",
       "    <tr style=\"text-align: right;\">\n",
       "      <th></th>\n",
       "      <th>title</th>\n",
       "      <th>location</th>\n",
       "      <th>description</th>\n",
       "      <th>requirements</th>\n",
       "      <th>telecommuting</th>\n",
       "      <th>has_company_logo</th>\n",
       "      <th>has_questions</th>\n",
       "      <th>fraudulent</th>\n",
       "    </tr>\n",
       "  </thead>\n",
       "  <tbody>\n",
       "    <tr>\n",
       "      <th>0</th>\n",
       "      <td>Customer Service Associate - Part Time</td>\n",
       "      <td>US, OR, Portland</td>\n",
       "      <td>The Customer Service Associate will be based i...</td>\n",
       "      <td>Minimum Requirements:Minimum of 6 months custo...</td>\n",
       "      <td>0</td>\n",
       "      <td>1</td>\n",
       "      <td>0</td>\n",
       "      <td>0</td>\n",
       "    </tr>\n",
       "    <tr>\n",
       "      <th>1</th>\n",
       "      <td>English Teacher Abroad</td>\n",
       "      <td>US, CA, Riverside</td>\n",
       "      <td>Play with kids, get paid for it Love travel? J...</td>\n",
       "      <td>University degree required. TEFL / TESOL / CEL...</td>\n",
       "      <td>0</td>\n",
       "      <td>1</td>\n",
       "      <td>1</td>\n",
       "      <td>0</td>\n",
       "    </tr>\n",
       "    <tr>\n",
       "      <th>2</th>\n",
       "      <td>URGENT HIRING For Web Designer...!!!</td>\n",
       "      <td>IN, UP, Noida</td>\n",
       "      <td>We are looking for a talented Web Designer to ...</td>\n",
       "      <td>1+ years of Web Design experienceDemonstrable ...</td>\n",
       "      <td>1</td>\n",
       "      <td>0</td>\n",
       "      <td>0</td>\n",
       "      <td>0</td>\n",
       "    </tr>\n",
       "    <tr>\n",
       "      <th>3</th>\n",
       "      <td>Web Developer</td>\n",
       "      <td>US, MA, Braintree</td>\n",
       "      <td>Requirements:Strong understanding of C#, #URL_...</td>\n",
       "      <td>Basic C# (Sharp)</td>\n",
       "      <td>0</td>\n",
       "      <td>0</td>\n",
       "      <td>0</td>\n",
       "      <td>0</td>\n",
       "    </tr>\n",
       "    <tr>\n",
       "      <th>4</th>\n",
       "      <td>Process Engineer</td>\n",
       "      <td>US, NC, Lexington</td>\n",
       "      <td>We have an immediate opening for a Process Eng...</td>\n",
       "      <td>Trade School Education (Degree) in Engineering...</td>\n",
       "      <td>0</td>\n",
       "      <td>1</td>\n",
       "      <td>0</td>\n",
       "      <td>0</td>\n",
       "    </tr>\n",
       "  </tbody>\n",
       "</table>\n",
       "</div>"
      ],
      "text/plain": [
       "                                     title           location  \\\n",
       "0  Customer Service Associate - Part Time    US, OR, Portland   \n",
       "1                   English Teacher Abroad  US, CA, Riverside   \n",
       "2     URGENT HIRING For Web Designer...!!!      IN, UP, Noida   \n",
       "3                            Web Developer  US, MA, Braintree   \n",
       "4                         Process Engineer  US, NC, Lexington   \n",
       "\n",
       "                                         description  \\\n",
       "0  The Customer Service Associate will be based i...   \n",
       "1  Play with kids, get paid for it Love travel? J...   \n",
       "2  We are looking for a talented Web Designer to ...   \n",
       "3  Requirements:Strong understanding of C#, #URL_...   \n",
       "4  We have an immediate opening for a Process Eng...   \n",
       "\n",
       "                                        requirements  telecommuting  \\\n",
       "0  Minimum Requirements:Minimum of 6 months custo...              0   \n",
       "1  University degree required. TEFL / TESOL / CEL...              0   \n",
       "2  1+ years of Web Design experienceDemonstrable ...              1   \n",
       "3                                   Basic C# (Sharp)              0   \n",
       "4  Trade School Education (Degree) in Engineering...              0   \n",
       "\n",
       "   has_company_logo  has_questions  fraudulent  \n",
       "0                 1              0           0  \n",
       "1                 1              1           0  \n",
       "2                 0              0           0  \n",
       "3                 0              0           0  \n",
       "4                 1              0           0  "
      ]
     },
     "execution_count": 19,
     "metadata": {},
     "output_type": "execute_result"
    }
   ],
   "source": [
    "df.limit(5).toPandas()"
   ]
  },
  {
   "cell_type": "markdown",
   "metadata": {},
   "source": [
    "#### I have now 4 texts columns with 3 integers, and the targer"
   ]
  },
  {
   "cell_type": "markdown",
   "metadata": {},
   "source": [
    "I think, I will split the location to get the city, and have no idea what to do with the rest of the columns rather than clean them as a text and chose one way to transform them into numbers, then into the ml model. let's do it tomorrow isA."
   ]
  },
  {
   "cell_type": "code",
   "execution_count": 20,
   "metadata": {},
   "outputs": [],
   "source": [
    "list_cols = df.columns[:-1]"
   ]
  },
  {
   "cell_type": "code",
   "execution_count": 21,
   "metadata": {},
   "outputs": [],
   "source": [
    "df = df.withColumn('concat_cols',concat_ws(' ',*list_cols))\n",
    "df = df.drop(*list_cols)"
   ]
  },
  {
   "cell_type": "code",
   "execution_count": 22,
   "metadata": {},
   "outputs": [
    {
     "name": "stdout",
     "output_type": "stream",
     "text": [
      "+----------+-----+\n",
      "|fraudulent|count|\n",
      "+----------+-----+\n",
      "|1         |645  |\n",
      "|0         |13145|\n",
      "+----------+-----+\n",
      "\n"
     ]
    }
   ],
   "source": [
    "df.groupBy('fraudulent').count().show(truncate=False)"
   ]
  },
  {
   "cell_type": "code",
   "execution_count": 23,
   "metadata": {},
   "outputs": [
    {
     "name": "stdout",
     "output_type": "stream",
     "text": [
      "+----------+----------------------------------------------------------------------------------------------------------------------------------------------------------------------------------------------------------------------------------------------------------------------------------------------------------------------------------------------------------------------------------------------------------------------------------------------------------------------------------------------------------------------------------------------------------------------------------------------------------------------------------------------------------------------------------------------------------------------------------------------------------------------------------------------------------------------------------------------------------------------------------------------------------------------------------------------------------------------------------------------------------------------------------------------------------------------------------------------------------------------------------------------------------------------------------------------------------------------------------------------------------------------------------------------------------------------------------------------------------------------------------------------------------------------------------------------------------------------------------------------------------------------------------------------------------------------------------------------------------------------------------------------------------------------------------------------------------------------------------------------------------------------------------------------------------------------------------------------------------------------------------------------------------------------------------------------------------------------------------------------------------------------------------------------------------------------------------------------------------------------------------------+\n",
      "|fraudulent|concat_cols                                                                                                                                                                                                                                                                                                                                                                                                                                                                                                                                                                                                                                                                                                                                                                                                                                                                                                                                                                                                                                                                                                                                                                                                                                                                                                                                                                                                                                                                                                                                                                                                                                                                                                                                                                                                                                                                                                                                                                                                                                                                                                                             |\n",
      "+----------+----------------------------------------------------------------------------------------------------------------------------------------------------------------------------------------------------------------------------------------------------------------------------------------------------------------------------------------------------------------------------------------------------------------------------------------------------------------------------------------------------------------------------------------------------------------------------------------------------------------------------------------------------------------------------------------------------------------------------------------------------------------------------------------------------------------------------------------------------------------------------------------------------------------------------------------------------------------------------------------------------------------------------------------------------------------------------------------------------------------------------------------------------------------------------------------------------------------------------------------------------------------------------------------------------------------------------------------------------------------------------------------------------------------------------------------------------------------------------------------------------------------------------------------------------------------------------------------------------------------------------------------------------------------------------------------------------------------------------------------------------------------------------------------------------------------------------------------------------------------------------------------------------------------------------------------------------------------------------------------------------------------------------------------------------------------------------------------------------------------------------------------+\n",
      "|0         |Customer Service Associate - Part Time  US, OR, Portland The Customer Service Associate will be based in Portland, OR. The right candidate will be an integral part of our talented team, supporting our continued growth.Responsibilities:Answer and dirent calls in a professional and timely mannerPerform various Mail Center activities (sorting, metering, folding, inserting, delivery, pickup, etc.)Lift heavy boxes, files or paper when neededMaintain the highest levels of customer care while demonstrating a friendly and cooperative attitudeDemonstrate flexibility in satisfying customer demands in a high volume, production environmentConsistently adhere to business procedure guidelinesAdhere to all safety proceduresTake direction from supervisor or site managerMaintain all logs and reporting documentation; attention to detailParticipate in cross-training and perform other duties as assigned (Filing, outgoing shipments, etc)Operating mailing, copy or scanning equipmentShipping &amp; ReceivingHandle time-sensitive material like confidential, urgent packagesPerform other tasks as assignedScanning incoming mail to recipientsPerform file purges and pullsCreate files and ship filesProvide backfill when neededEnter information daily into spreadsheetsIdentify charges and match them to billingSort and deliver mail, small packages Minimum Requirements:Minimum of 6 months customer service related experience requiredHigh school diploma or equivalent (GED) requiredPreferred Qualifications:Keyboarding and windows environment PC skills required (Word, Excel and PowerPoint preferred)Experience running mail posting equipment a plusExcellent communication skills both verbal and writtenLifting up to 55 lbs with or without accommodationsWillingness and availability to work additional hours if assignedWillingness to submit to a pre-employment drug screening and criminal background checkAbility to effectively work individually or in a team environmentCompetency in performing multiple functional tasksAbility to meet employer's attendance policy 0 1 0|\n",
      "+----------+----------------------------------------------------------------------------------------------------------------------------------------------------------------------------------------------------------------------------------------------------------------------------------------------------------------------------------------------------------------------------------------------------------------------------------------------------------------------------------------------------------------------------------------------------------------------------------------------------------------------------------------------------------------------------------------------------------------------------------------------------------------------------------------------------------------------------------------------------------------------------------------------------------------------------------------------------------------------------------------------------------------------------------------------------------------------------------------------------------------------------------------------------------------------------------------------------------------------------------------------------------------------------------------------------------------------------------------------------------------------------------------------------------------------------------------------------------------------------------------------------------------------------------------------------------------------------------------------------------------------------------------------------------------------------------------------------------------------------------------------------------------------------------------------------------------------------------------------------------------------------------------------------------------------------------------------------------------------------------------------------------------------------------------------------------------------------------------------------------------------------------------+\n",
      "only showing top 1 row\n",
      "\n"
     ]
    }
   ],
   "source": [
    "df.show(1,truncate=False)"
   ]
  },
  {
   "cell_type": "code",
   "execution_count": 24,
   "metadata": {},
   "outputs": [],
   "source": [
    "df = df.withColumn(\"concat_cols\", regexp_replace(col(\"concat_cols\"), \"([a-z])([A-Z])\", \"$1 $2\"))"
   ]
  },
  {
   "cell_type": "markdown",
   "metadata": {},
   "source": [
    "### its time to clean the concat_col column"
   ]
  },
  {
   "cell_type": "code",
   "execution_count": 25,
   "metadata": {},
   "outputs": [
    {
     "name": "stdout",
     "output_type": "stream",
     "text": [
      "+-----------------------------------------------------------------------------------------------------------------------------------------------------------------------------------------------------------------------------------------------------------------------------------------------------------------------------------------------------------------------------------------------------------------------------------------------------------------------------------------------------------------------------------------------------------------------------------------------------------------------------------------------------------------------------------------------------------------------------------------------------------------------------------------------------------------------------------------------------------------------------------------------------------------------------------------------------------------------------------------------------------------------------------------------------------------------------------------------------------------------------------------------------------------------------------------------------------------------------------------------------------------------------------------------------------------------------------------------------------------------------------------------------------------------------------------------------------------------------------------------------------------------------------------------------------------------------------------------------------------------------------------------------------------------------------------------------------------------------------------------------------------------------------------------------------------------------------------------------------------------------------------------------------------------------------------------------------------------------------------------------------------------------------------------------------------------------------------------------------------------------+\n",
      "|concat_cols                                                                                                                                                                                                                                                                                                                                                                                                                                                                                                                                                                                                                                                                                                                                                                                                                                                                                                                                                                                                                                                                                                                                                                                                                                                                                                                                                                                                                                                                                                                                                                                                                                                                                                                                                                                                                                                                                                                                                                                                                                                                                                                  |\n",
      "+-----------------------------------------------------------------------------------------------------------------------------------------------------------------------------------------------------------------------------------------------------------------------------------------------------------------------------------------------------------------------------------------------------------------------------------------------------------------------------------------------------------------------------------------------------------------------------------------------------------------------------------------------------------------------------------------------------------------------------------------------------------------------------------------------------------------------------------------------------------------------------------------------------------------------------------------------------------------------------------------------------------------------------------------------------------------------------------------------------------------------------------------------------------------------------------------------------------------------------------------------------------------------------------------------------------------------------------------------------------------------------------------------------------------------------------------------------------------------------------------------------------------------------------------------------------------------------------------------------------------------------------------------------------------------------------------------------------------------------------------------------------------------------------------------------------------------------------------------------------------------------------------------------------------------------------------------------------------------------------------------------------------------------------------------------------------------------------------------------------------------------+\n",
      "|customer service associate part time us or portland the customer service associate will be based in portland or the right candidate will be an integral part of our talented team supporting our continued growthresponsibilitiesanswer and dirent calls in a professional and timely manner perform various mail center activities sorting metering folding inserting delivery pickup etc lift heavy boxes files or paper when needed maintain the highest levels of customer care while demonstrating a friendly and cooperative attitude demonstrate flexibility in satisfying customer demands in a high volume production environment consistently adhere to business procedure guidelines adhere to all safety procedures take direction from supervisor or site manager maintain all logs and reporting documentation attention to detail participate in crosstraining and perform other duties as assigned filing outgoing shipments etc operating mailing copy or scanning equipment shipping amp receiving handle timesensitive material like confidential urgent packages perform other tasks as assigned scanning incoming mail to recipients perform file purges and pulls create files and ship files provide backfill when needed enter information daily into spreadsheets identify charges and match them to billing sort and deliver mail small packages minimum requirementsminimum of 6 months customer service related experience required high school diploma or equivalent ged required preferred qualificationskeyboarding and windows environment pc skills required word excel and power point preferred experience running mail posting equipment a plus excellent communication skills both verbal and written lifting up to 55 lbs with or without accommodations willingness and availability to work additional hours if assigned willingness to submit to a preemployment drug screening and criminal background check ability to effectively work individually or in a team environment competency in performing multiple functional tasks ability to meet employers attendance policy 0 1 0|\n",
      "|english teacher abroad us ca riverside play with kids get paid for itlove travel jobs in asia1500 usd monthly 200 cost of living housing provided private furnished airfare reimbursed excellent for student loans credit cards gabriel adkins  month contract apply today university degree requiredtefl tesol celta or teaching experience preferred but not necessary canada us passport holders only 0 1 1                                                                                                                                                                                                                                                                                                                                                                                                                                                                                                                                                                                                                                                                                                                                                                                                                                                                                                                                                                                                                                                                                                                                                                                                                                                                                                                                                                                                                                                                                                                                                                                                                                                                                                               |\n",
      "+-----------------------------------------------------------------------------------------------------------------------------------------------------------------------------------------------------------------------------------------------------------------------------------------------------------------------------------------------------------------------------------------------------------------------------------------------------------------------------------------------------------------------------------------------------------------------------------------------------------------------------------------------------------------------------------------------------------------------------------------------------------------------------------------------------------------------------------------------------------------------------------------------------------------------------------------------------------------------------------------------------------------------------------------------------------------------------------------------------------------------------------------------------------------------------------------------------------------------------------------------------------------------------------------------------------------------------------------------------------------------------------------------------------------------------------------------------------------------------------------------------------------------------------------------------------------------------------------------------------------------------------------------------------------------------------------------------------------------------------------------------------------------------------------------------------------------------------------------------------------------------------------------------------------------------------------------------------------------------------------------------------------------------------------------------------------------------------------------------------------------------+\n",
      "only showing top 2 rows\n",
      "\n"
     ]
    }
   ],
   "source": [
    "df = df.withColumn(\"concat_cols\",translate(col(\"concat_cols\"), \"/()\", \"   \")) \\\n",
    "        .withColumn(\"concat_cols\",regexp_replace(col('concat_cols'), '[^A-Za-z0-9 ]+', '')) \\\n",
    "        .withColumn(\"concat_cols\",regexp_replace(col('concat_cols'), ' +', ' ')) \\\n",
    "        .withColumn(\"concat_cols\",lower(col('concat_cols'))) \\\n",
    "        .withColumn(\"concat_cols\", regexp_replace(col(\"concat_cols\"), \"url\\\\S*\", \"\"))\n",
    "\n",
    "\n",
    "df.select('concat_cols').show(2,False)"
   ]
  },
  {
   "cell_type": "markdown",
   "metadata": {},
   "source": [
    "## Prep Data for NLP"
   ]
  },
  {
   "cell_type": "code",
   "execution_count": 26,
   "metadata": {},
   "outputs": [
    {
     "name": "stdout",
     "output_type": "stream",
     "text": [
      "+----------+-----------------------------------------------------------------------------------------------------------------------------------------------------------------------------------------------------------------------------------------------------------------------------------------------------------------------------------------------------------------------------------------------------------------------------------------------------------------------------------------------------------------------------------------------------------------------------------------------------------------------------------------------------------------------------------------------------------------------------------------------------------------------------------------------------------------------------------------------------------------------------------------------------------------------------------------------------------------------------------------------------------------------------------------------------------------------------------------------------------------------------------------------------------------------------------------------------------------------------------------------------------------------------------------------------------------------------------------------------------------------------------------------------------------------------------------------------------------------------------------------------------------------------------------------------------------------------------------------------------------------------------------------------------------------------------------------------------------------------------------------------------------------------------------------------------------------------------------------------------------------------------------------------------------------------------------------------------------------------------------------------------------------------------------------------------------------------------------------------------------------------+-----------------------------------------------------------------------------------------------------------------------------------------------------------------------------------------------------------------------------------------------------------------------------------------------------------------------------------------------------------------------------------------------------------------------------------------------------------------------------------------------------------------------------------------------------------------------------------------------------------------------------------------------------------------------------------------------------------------------------------------------------------------------------------------------------------------------------------------------------------------------------------------------------------------------------------------------------------------------------------------------------------------------------------------------------------------------------------------------------------------------------------------------------------------------------------------------------------------------------------------------------------------------------------------------------------------------------------------------------------------------------------------------------------------------------------------------------------------------------------------------------------------------------------------------------------------------------------------------------------------------------------------------------------------------------------------------------------------------------------------------------------------------------------------------------------------------------------------------------------------------------------------------------------------------------------------------------------------------------------------------------------------------------------------------------------------------------------------------------------------------------------------------------------------------------------------------------------------------------------------------------------------------------------------------------------------------------------------------------------------------------------------------------------------------------+\n",
      "|fraudulent|concat_cols                                                                                                                                                                                                                                                                                                                                                                                                                                                                                                                                                                                                                                                                                                                                                                                                                                                                                                                                                                                                                                                                                                                                                                                                                                                                                                                                                                                                                                                                                                                                                                                                                                                                                                                                                                                                                                                                                                                                                                                                                                                                                                                  |words                                                                                                                                                                                                                                                                                                                                                                                                                                                                                                                                                                                                                                                                                                                                                                                                                                                                                                                                                                                                                                                                                                                                                                                                                                                                                                                                                                                                                                                                                                                                                                                                                                                                                                                                                                                                                                                                                                                                                                                                                                                                                                                                                                                                                                                                                                                                                                                                                        |\n",
      "+----------+-----------------------------------------------------------------------------------------------------------------------------------------------------------------------------------------------------------------------------------------------------------------------------------------------------------------------------------------------------------------------------------------------------------------------------------------------------------------------------------------------------------------------------------------------------------------------------------------------------------------------------------------------------------------------------------------------------------------------------------------------------------------------------------------------------------------------------------------------------------------------------------------------------------------------------------------------------------------------------------------------------------------------------------------------------------------------------------------------------------------------------------------------------------------------------------------------------------------------------------------------------------------------------------------------------------------------------------------------------------------------------------------------------------------------------------------------------------------------------------------------------------------------------------------------------------------------------------------------------------------------------------------------------------------------------------------------------------------------------------------------------------------------------------------------------------------------------------------------------------------------------------------------------------------------------------------------------------------------------------------------------------------------------------------------------------------------------------------------------------------------------+-----------------------------------------------------------------------------------------------------------------------------------------------------------------------------------------------------------------------------------------------------------------------------------------------------------------------------------------------------------------------------------------------------------------------------------------------------------------------------------------------------------------------------------------------------------------------------------------------------------------------------------------------------------------------------------------------------------------------------------------------------------------------------------------------------------------------------------------------------------------------------------------------------------------------------------------------------------------------------------------------------------------------------------------------------------------------------------------------------------------------------------------------------------------------------------------------------------------------------------------------------------------------------------------------------------------------------------------------------------------------------------------------------------------------------------------------------------------------------------------------------------------------------------------------------------------------------------------------------------------------------------------------------------------------------------------------------------------------------------------------------------------------------------------------------------------------------------------------------------------------------------------------------------------------------------------------------------------------------------------------------------------------------------------------------------------------------------------------------------------------------------------------------------------------------------------------------------------------------------------------------------------------------------------------------------------------------------------------------------------------------------------------------------------------------+\n",
      "|0         |customer service associate part time us or portland the customer service associate will be based in portland or the right candidate will be an integral part of our talented team supporting our continued growthresponsibilitiesanswer and dirent calls in a professional and timely manner perform various mail center activities sorting metering folding inserting delivery pickup etc lift heavy boxes files or paper when needed maintain the highest levels of customer care while demonstrating a friendly and cooperative attitude demonstrate flexibility in satisfying customer demands in a high volume production environment consistently adhere to business procedure guidelines adhere to all safety procedures take direction from supervisor or site manager maintain all logs and reporting documentation attention to detail participate in crosstraining and perform other duties as assigned filing outgoing shipments etc operating mailing copy or scanning equipment shipping amp receiving handle timesensitive material like confidential urgent packages perform other tasks as assigned scanning incoming mail to recipients perform file purges and pulls create files and ship files provide backfill when needed enter information daily into spreadsheets identify charges and match them to billing sort and deliver mail small packages minimum requirementsminimum of 6 months customer service related experience required high school diploma or equivalent ged required preferred qualificationskeyboarding and windows environment pc skills required word excel and power point preferred experience running mail posting equipment a plus excellent communication skills both verbal and written lifting up to 55 lbs with or without accommodations willingness and availability to work additional hours if assigned willingness to submit to a preemployment drug screening and criminal background check ability to effectively work individually or in a team environment competency in performing multiple functional tasks ability to meet employers attendance policy 0 1 0|[customer, service, associate, part, time, us, or, portland, the, customer, service, associate, will, be, based, in, portland, or, the, right, candidate, will, be, an, integral, part, of, our, talented, team, supporting, our, continued, growthresponsibilitiesanswer, and, dirent, calls, in, a, professional, and, timely, manner, perform, various, mail, center, activities, sorting, metering, folding, inserting, delivery, pickup, etc, lift, heavy, boxes, files, or, paper, when, needed, maintain, the, highest, levels, of, customer, care, while, demonstrating, a, friendly, and, cooperative, attitude, demonstrate, flexibility, in, satisfying, customer, demands, in, a, high, volume, production, environment, consistently, adhere, to, business, procedure, guidelines, adhere, to, all, safety, procedures, take, direction, from, supervisor, or, site, manager, maintain, all, logs, and, reporting, documentation, attention, to, detail, participate, in, crosstraining, and, perform, other, duties, as, assigned, filing, outgoing, shipments, etc, operating, mailing, copy, or, scanning, equipment, shipping, amp, receiving, handle, timesensitive, material, like, confidential, urgent, packages, perform, other, tasks, as, assigned, scanning, incoming, mail, to, recipients, perform, file, purges, and, pulls, create, files, and, ship, files, provide, backfill, when, needed, enter, information, daily, into, spreadsheets, identify, charges, and, match, them, to, billing, sort, and, deliver, mail, small, packages, minimum, requirementsminimum, of, 6, months, customer, service, related, experience, required, high, school, diploma, or, equivalent, ged, required, preferred, qualificationskeyboarding, and, windows, environment, pc, skills, required, word, excel, and, power, point, preferred, experience, running, mail, posting, equipment, a, plus, excellent, communication, skills, both, verbal, and, written, lifting, up, to, 55, lbs, with, or, without, accommodations, willingness, and, availability, to, work, additional, hours, if, assigned, willingness, to, submit, to, a, preemployment, drug, screening, and, criminal, background, check, ability, to, effectively, work, individually, or, in, a, team, environment, competency, in, performing, multiple, functional, tasks, ability, to, meet, employers, attendance, policy, 0, 1, 0]|\n",
      "|0         |english teacher abroad us ca riverside play with kids get paid for itlove travel jobs in asia1500 usd monthly 200 cost of living housing provided private furnished airfare reimbursed excellent for student loans credit cards gabriel adkins  month contract apply today university degree requiredtefl tesol celta or teaching experience preferred but not necessary canada us passport holders only 0 1 1                                                                                                                                                                                                                                                                                                                                                                                                                                                                                                                                                                                                                                                                                                                                                                                                                                                                                                                                                                                                                                                                                                                                                                                                                                                                                                                                                                                                                                                                                                                                                                                                                                                                                                               |[english, teacher, abroad, us, ca, riverside, play, with, kids, get, paid, for, itlove, travel, jobs, in, asia1500, usd, monthly, 200, cost, of, living, housing, provided, private, furnished, airfare, reimbursed, excellent, for, student, loans, credit, cards, gabriel, adkins, month, contract, apply, today, university, degree, requiredtefl, tesol, celta, or, teaching, experience, preferred, but, not, necessary, canada, us, passport, holders, only, 0, 1, 1]                                                                                                                                                                                                                                                                                                                                                                                                                                                                                                                                                                                                                                                                                                                                                                                                                                                                                                                                                                                                                                                                                                                                                                                                                                                                                                                                                                                                                                                                                                                                                                                                                                                                                                                                                                                                                                                                                                                                                  |\n",
      "+----------+-----------------------------------------------------------------------------------------------------------------------------------------------------------------------------------------------------------------------------------------------------------------------------------------------------------------------------------------------------------------------------------------------------------------------------------------------------------------------------------------------------------------------------------------------------------------------------------------------------------------------------------------------------------------------------------------------------------------------------------------------------------------------------------------------------------------------------------------------------------------------------------------------------------------------------------------------------------------------------------------------------------------------------------------------------------------------------------------------------------------------------------------------------------------------------------------------------------------------------------------------------------------------------------------------------------------------------------------------------------------------------------------------------------------------------------------------------------------------------------------------------------------------------------------------------------------------------------------------------------------------------------------------------------------------------------------------------------------------------------------------------------------------------------------------------------------------------------------------------------------------------------------------------------------------------------------------------------------------------------------------------------------------------------------------------------------------------------------------------------------------------+-----------------------------------------------------------------------------------------------------------------------------------------------------------------------------------------------------------------------------------------------------------------------------------------------------------------------------------------------------------------------------------------------------------------------------------------------------------------------------------------------------------------------------------------------------------------------------------------------------------------------------------------------------------------------------------------------------------------------------------------------------------------------------------------------------------------------------------------------------------------------------------------------------------------------------------------------------------------------------------------------------------------------------------------------------------------------------------------------------------------------------------------------------------------------------------------------------------------------------------------------------------------------------------------------------------------------------------------------------------------------------------------------------------------------------------------------------------------------------------------------------------------------------------------------------------------------------------------------------------------------------------------------------------------------------------------------------------------------------------------------------------------------------------------------------------------------------------------------------------------------------------------------------------------------------------------------------------------------------------------------------------------------------------------------------------------------------------------------------------------------------------------------------------------------------------------------------------------------------------------------------------------------------------------------------------------------------------------------------------------------------------------------------------------------------+\n",
      "only showing top 2 rows\n",
      "\n",
      "root\n",
      " |-- fraudulent: integer (nullable = true)\n",
      " |-- concat_cols: string (nullable = false)\n",
      " |-- words: array (nullable = true)\n",
      " |    |-- element: string (containsNull = true)\n",
      "\n"
     ]
    }
   ],
   "source": [
    "regex_tokenizer = RegexTokenizer(inputCol=\"concat_cols\", outputCol=\"words\", pattern=\"\\W\") # /W means any word, so this will split by the word.\n",
    "raw_words = regex_tokenizer.transform(df)\n",
    "raw_words.show(2,False)\n",
    "raw_words.printSchema() "
   ]
  },
  {
   "cell_type": "markdown",
   "metadata": {},
   "source": [
    "## Removing Stopwords"
   ]
  },
  {
   "cell_type": "code",
   "execution_count": 27,
   "metadata": {},
   "outputs": [
    {
     "name": "stdout",
     "output_type": "stream",
     "text": [
      "+----------+-----------------------------------------------------------------------------------------------------------------------------------------------------------------------------------------------------------------------------------------------------------------------------------------------------------------------------------------------------------------------------------------------------------------------------------------------------------------------------------------------------------------------------------------------------------------------------------------------------------------------------------------------------------------------------------------------------------------------------------------------------------------------------------------------------------------------------------------------------------------------------------------------------------------------------------------------------------------------------------------------------------------------------------------------------------------------------------------------------------------------------------------------------------------------------------------------------------------------------------------------------------------------------------------------------------------------------------------------------------------------------------------------------------------------------------------------------------------------------------------------------------------------------------------------------------------------------------------------------------------------------------------------------------------------------------------------------------------------------------------------------------------------------------------------------------------------------------------------------------------------------------------------------------------------------------------------------------------------------------------------------------------------------------------------------------------------------------------------------------------------------+-----------------------------------------------------------------------------------------------------------------------------------------------------------------------------------------------------------------------------------------------------------------------------------------------------------------------------------------------------------------------------------------------------------------------------------------------------------------------------------------------------------------------------------------------------------------------------------------------------------------------------------------------------------------------------------------------------------------------------------------------------------------------------------------------------------------------------------------------------------------------------------------------------------------------------------------------------------------------------------------------------------------------------------------------------------------------------------------------------------------------------------------------------------------------------------------------------------------------------------------------------------------------------------------------------------------------------------------------------------------------------------------------------------------------------------------------------------------------------------------------------------------------------------------------------------------------------------------------------------------------------------------------------------------------------------------------------------------------------------------------------------------------------------------------------------------------------------------------------------------------------------------------------------------------------------------------------------------------------------------------------------------------------------------------------------------------------------------------------------------------------------------------------------------------------------------------------------------------------------------------------------------------------------------------------------------------------------------------------------------------------------------------------------------------------+-----------------------------------------------------------------------------------------------------------------------------------------------------------------------------------------------------------------------------------------------------------------------------------------------------------------------------------------------------------------------------------------------------------------------------------------------------------------------------------------------------------------------------------------------------------------------------------------------------------------------------------------------------------------------------------------------------------------------------------------------------------------------------------------------------------------------------------------------------------------------------------------------------------------------------------------------------------------------------------------------------------------------------------------------------------------------------------------------------------------------------------------------------------------------------------------------------------------------------------------------------------------------------------------------------------------------------------------------------------------------------------------------------------------------------------------------------------------------------------------------------------------------------------------------------------------------------------------------------------------------------------------------------------------------------------------------------------------------------------------------------------------------------------------------------------------------------------------------------------------------------------------------------------------------------------------------------------------------------------------------------------------------------------------------------------------------+\n",
      "|fraudulent|concat_cols                                                                                                                                                                                                                                                                                                                                                                                                                                                                                                                                                                                                                                                                                                                                                                                                                                                                                                                                                                                                                                                                                                                                                                                                                                                                                                                                                                                                                                                                                                                                                                                                                                                                                                                                                                                                                                                                                                                                                                                                                                                                                                                  |words                                                                                                                                                                                                                                                                                                                                                                                                                                                                                                                                                                                                                                                                                                                                                                                                                                                                                                                                                                                                                                                                                                                                                                                                                                                                                                                                                                                                                                                                                                                                                                                                                                                                                                                                                                                                                                                                                                                                                                                                                                                                                                                                                                                                                                                                                                                                                                                                                        |filtered                                                                                                                                                                                                                                                                                                                                                                                                                                                                                                                                                                                                                                                                                                                                                                                                                                                                                                                                                                                                                                                                                                                                                                                                                                                                                                                                                                                                                                                                                                                                                                                                                                                                                                                                                                                                                                                                                                                                                                                                                                                               |\n",
      "+----------+-----------------------------------------------------------------------------------------------------------------------------------------------------------------------------------------------------------------------------------------------------------------------------------------------------------------------------------------------------------------------------------------------------------------------------------------------------------------------------------------------------------------------------------------------------------------------------------------------------------------------------------------------------------------------------------------------------------------------------------------------------------------------------------------------------------------------------------------------------------------------------------------------------------------------------------------------------------------------------------------------------------------------------------------------------------------------------------------------------------------------------------------------------------------------------------------------------------------------------------------------------------------------------------------------------------------------------------------------------------------------------------------------------------------------------------------------------------------------------------------------------------------------------------------------------------------------------------------------------------------------------------------------------------------------------------------------------------------------------------------------------------------------------------------------------------------------------------------------------------------------------------------------------------------------------------------------------------------------------------------------------------------------------------------------------------------------------------------------------------------------------+-----------------------------------------------------------------------------------------------------------------------------------------------------------------------------------------------------------------------------------------------------------------------------------------------------------------------------------------------------------------------------------------------------------------------------------------------------------------------------------------------------------------------------------------------------------------------------------------------------------------------------------------------------------------------------------------------------------------------------------------------------------------------------------------------------------------------------------------------------------------------------------------------------------------------------------------------------------------------------------------------------------------------------------------------------------------------------------------------------------------------------------------------------------------------------------------------------------------------------------------------------------------------------------------------------------------------------------------------------------------------------------------------------------------------------------------------------------------------------------------------------------------------------------------------------------------------------------------------------------------------------------------------------------------------------------------------------------------------------------------------------------------------------------------------------------------------------------------------------------------------------------------------------------------------------------------------------------------------------------------------------------------------------------------------------------------------------------------------------------------------------------------------------------------------------------------------------------------------------------------------------------------------------------------------------------------------------------------------------------------------------------------------------------------------------+-----------------------------------------------------------------------------------------------------------------------------------------------------------------------------------------------------------------------------------------------------------------------------------------------------------------------------------------------------------------------------------------------------------------------------------------------------------------------------------------------------------------------------------------------------------------------------------------------------------------------------------------------------------------------------------------------------------------------------------------------------------------------------------------------------------------------------------------------------------------------------------------------------------------------------------------------------------------------------------------------------------------------------------------------------------------------------------------------------------------------------------------------------------------------------------------------------------------------------------------------------------------------------------------------------------------------------------------------------------------------------------------------------------------------------------------------------------------------------------------------------------------------------------------------------------------------------------------------------------------------------------------------------------------------------------------------------------------------------------------------------------------------------------------------------------------------------------------------------------------------------------------------------------------------------------------------------------------------------------------------------------------------------------------------------------------------+\n",
      "|0         |customer service associate part time us or portland the customer service associate will be based in portland or the right candidate will be an integral part of our talented team supporting our continued growthresponsibilitiesanswer and dirent calls in a professional and timely manner perform various mail center activities sorting metering folding inserting delivery pickup etc lift heavy boxes files or paper when needed maintain the highest levels of customer care while demonstrating a friendly and cooperative attitude demonstrate flexibility in satisfying customer demands in a high volume production environment consistently adhere to business procedure guidelines adhere to all safety procedures take direction from supervisor or site manager maintain all logs and reporting documentation attention to detail participate in crosstraining and perform other duties as assigned filing outgoing shipments etc operating mailing copy or scanning equipment shipping amp receiving handle timesensitive material like confidential urgent packages perform other tasks as assigned scanning incoming mail to recipients perform file purges and pulls create files and ship files provide backfill when needed enter information daily into spreadsheets identify charges and match them to billing sort and deliver mail small packages minimum requirementsminimum of 6 months customer service related experience required high school diploma or equivalent ged required preferred qualificationskeyboarding and windows environment pc skills required word excel and power point preferred experience running mail posting equipment a plus excellent communication skills both verbal and written lifting up to 55 lbs with or without accommodations willingness and availability to work additional hours if assigned willingness to submit to a preemployment drug screening and criminal background check ability to effectively work individually or in a team environment competency in performing multiple functional tasks ability to meet employers attendance policy 0 1 0|[customer, service, associate, part, time, us, or, portland, the, customer, service, associate, will, be, based, in, portland, or, the, right, candidate, will, be, an, integral, part, of, our, talented, team, supporting, our, continued, growthresponsibilitiesanswer, and, dirent, calls, in, a, professional, and, timely, manner, perform, various, mail, center, activities, sorting, metering, folding, inserting, delivery, pickup, etc, lift, heavy, boxes, files, or, paper, when, needed, maintain, the, highest, levels, of, customer, care, while, demonstrating, a, friendly, and, cooperative, attitude, demonstrate, flexibility, in, satisfying, customer, demands, in, a, high, volume, production, environment, consistently, adhere, to, business, procedure, guidelines, adhere, to, all, safety, procedures, take, direction, from, supervisor, or, site, manager, maintain, all, logs, and, reporting, documentation, attention, to, detail, participate, in, crosstraining, and, perform, other, duties, as, assigned, filing, outgoing, shipments, etc, operating, mailing, copy, or, scanning, equipment, shipping, amp, receiving, handle, timesensitive, material, like, confidential, urgent, packages, perform, other, tasks, as, assigned, scanning, incoming, mail, to, recipients, perform, file, purges, and, pulls, create, files, and, ship, files, provide, backfill, when, needed, enter, information, daily, into, spreadsheets, identify, charges, and, match, them, to, billing, sort, and, deliver, mail, small, packages, minimum, requirementsminimum, of, 6, months, customer, service, related, experience, required, high, school, diploma, or, equivalent, ged, required, preferred, qualificationskeyboarding, and, windows, environment, pc, skills, required, word, excel, and, power, point, preferred, experience, running, mail, posting, equipment, a, plus, excellent, communication, skills, both, verbal, and, written, lifting, up, to, 55, lbs, with, or, without, accommodations, willingness, and, availability, to, work, additional, hours, if, assigned, willingness, to, submit, to, a, preemployment, drug, screening, and, criminal, background, check, ability, to, effectively, work, individually, or, in, a, team, environment, competency, in, performing, multiple, functional, tasks, ability, to, meet, employers, attendance, policy, 0, 1, 0]|[customer, service, associate, part, time, us, portland, customer, service, associate, based, portland, right, candidate, integral, part, talented, team, supporting, continued, growthresponsibilitiesanswer, dirent, calls, professional, timely, manner, perform, various, mail, center, activities, sorting, metering, folding, inserting, delivery, pickup, etc, lift, heavy, boxes, files, paper, needed, maintain, highest, levels, customer, care, demonstrating, friendly, cooperative, attitude, demonstrate, flexibility, satisfying, customer, demands, high, volume, production, environment, consistently, adhere, business, procedure, guidelines, adhere, safety, procedures, take, direction, supervisor, site, manager, maintain, logs, reporting, documentation, attention, detail, participate, crosstraining, perform, duties, assigned, filing, outgoing, shipments, etc, operating, mailing, copy, scanning, equipment, shipping, amp, receiving, handle, timesensitive, material, like, confidential, urgent, packages, perform, tasks, assigned, scanning, incoming, mail, recipients, perform, file, purges, pulls, create, files, ship, files, provide, backfill, needed, enter, information, daily, spreadsheets, identify, charges, match, billing, sort, deliver, mail, small, packages, minimum, requirementsminimum, 6, months, customer, service, related, experience, required, high, school, diploma, equivalent, ged, required, preferred, qualificationskeyboarding, windows, environment, pc, skills, required, word, excel, power, point, preferred, experience, running, mail, posting, equipment, plus, excellent, communication, skills, verbal, written, lifting, 55, lbs, without, accommodations, willingness, availability, work, additional, hours, assigned, willingness, submit, preemployment, drug, screening, criminal, background, check, ability, effectively, work, individually, team, environment, competency, performing, multiple, functional, tasks, ability, meet, employers, attendance, policy, 0, 1, 0]|\n",
      "+----------+-----------------------------------------------------------------------------------------------------------------------------------------------------------------------------------------------------------------------------------------------------------------------------------------------------------------------------------------------------------------------------------------------------------------------------------------------------------------------------------------------------------------------------------------------------------------------------------------------------------------------------------------------------------------------------------------------------------------------------------------------------------------------------------------------------------------------------------------------------------------------------------------------------------------------------------------------------------------------------------------------------------------------------------------------------------------------------------------------------------------------------------------------------------------------------------------------------------------------------------------------------------------------------------------------------------------------------------------------------------------------------------------------------------------------------------------------------------------------------------------------------------------------------------------------------------------------------------------------------------------------------------------------------------------------------------------------------------------------------------------------------------------------------------------------------------------------------------------------------------------------------------------------------------------------------------------------------------------------------------------------------------------------------------------------------------------------------------------------------------------------------+-----------------------------------------------------------------------------------------------------------------------------------------------------------------------------------------------------------------------------------------------------------------------------------------------------------------------------------------------------------------------------------------------------------------------------------------------------------------------------------------------------------------------------------------------------------------------------------------------------------------------------------------------------------------------------------------------------------------------------------------------------------------------------------------------------------------------------------------------------------------------------------------------------------------------------------------------------------------------------------------------------------------------------------------------------------------------------------------------------------------------------------------------------------------------------------------------------------------------------------------------------------------------------------------------------------------------------------------------------------------------------------------------------------------------------------------------------------------------------------------------------------------------------------------------------------------------------------------------------------------------------------------------------------------------------------------------------------------------------------------------------------------------------------------------------------------------------------------------------------------------------------------------------------------------------------------------------------------------------------------------------------------------------------------------------------------------------------------------------------------------------------------------------------------------------------------------------------------------------------------------------------------------------------------------------------------------------------------------------------------------------------------------------------------------------+-----------------------------------------------------------------------------------------------------------------------------------------------------------------------------------------------------------------------------------------------------------------------------------------------------------------------------------------------------------------------------------------------------------------------------------------------------------------------------------------------------------------------------------------------------------------------------------------------------------------------------------------------------------------------------------------------------------------------------------------------------------------------------------------------------------------------------------------------------------------------------------------------------------------------------------------------------------------------------------------------------------------------------------------------------------------------------------------------------------------------------------------------------------------------------------------------------------------------------------------------------------------------------------------------------------------------------------------------------------------------------------------------------------------------------------------------------------------------------------------------------------------------------------------------------------------------------------------------------------------------------------------------------------------------------------------------------------------------------------------------------------------------------------------------------------------------------------------------------------------------------------------------------------------------------------------------------------------------------------------------------------------------------------------------------------------------+\n",
      "\n"
     ]
    }
   ],
   "source": [
    "# Define a list of stop words or use default list\n",
    "remover = StopWordsRemover(inputCol=\"words\", outputCol=\"filtered\")\n",
    "stopwords = remover.getStopWords() \n",
    "words_df = remover.transform(raw_words)\n",
    "words_df.limit(1).show(truncate=False)"
   ]
  },
  {
   "cell_type": "markdown",
   "metadata": {},
   "source": [
    "## Now we need to encode state column to a column of indices\n",
    "- Remember that MLlib requres our dependent variable to not only be a numeric data type, but also zero indexed. We can use Sparks handy built in StringIndexer function to accomplish this, just like we did in the classification lectures."
   ]
  },
  {
   "cell_type": "code",
   "execution_count": 28,
   "metadata": {},
   "outputs": [
    {
     "name": "stdout",
     "output_type": "stream",
     "text": [
      "+----------+--------------------+--------------------+--------------------+-----+\n",
      "|fraudulent|         concat_cols|               words|            filtered|label|\n",
      "+----------+--------------------+--------------------+--------------------+-----+\n",
      "|         0|customer service ...|[customer, servic...|[customer, servic...|  0.0|\n",
      "|         0|english teacher a...|[english, teacher...|[english, teacher...|  0.0|\n",
      "|         0|urgent hiring for...|[urgent, hiring, ...|[urgent, hiring, ...|  0.0|\n",
      "|         0|web developer us ...|[web, developer, ...|[web, developer, ...|  0.0|\n",
      "|         0|process engineer ...|[process, enginee...|[process, enginee...|  0.0|\n",
      "+----------+--------------------+--------------------+--------------------+-----+\n",
      "only showing top 5 rows\n",
      "\n",
      "root\n",
      " |-- fraudulent: integer (nullable = true)\n",
      " |-- concat_cols: string (nullable = false)\n",
      " |-- words: array (nullable = true)\n",
      " |    |-- element: string (containsNull = true)\n",
      " |-- filtered: array (nullable = true)\n",
      " |    |-- element: string (containsNull = true)\n",
      " |-- label: double (nullable = false)\n",
      "\n"
     ]
    }
   ],
   "source": [
    "indexer = StringIndexer(inputCol=\"fraudulent\", outputCol=\"label\")\n",
    "feature_data = indexer.fit(words_df).transform(words_df)\n",
    "feature_data.show(5)\n",
    "feature_data.printSchema()"
   ]
  },
  {
   "cell_type": "markdown",
   "metadata": {
    "tags": []
   },
   "source": [
    "## Converting text into vectors"
   ]
  },
  {
   "cell_type": "code",
   "execution_count": 29,
   "metadata": {},
   "outputs": [
    {
     "name": "stdout",
     "output_type": "stream",
     "text": [
      "+----------+-----------------------------------------------------------------------------------------------------------------------------------------------------------------------------------------------------------------------------------------------------------------------------------------------------------------------------------------------------------------------------------------------------------------------------------------------------------------------------------------------------------------------------------------------------------------------------------------------------------------------------------------------------------------------------------------------------------------------------------------------------------------------------------------------------------------------------------------------------------------------------------------------------------------------------------------------------------------------------------------------------------------------------------------------------------------------------------------------------------------------------------------------------------------------------------------------------------------------------------------------------------------------------------------------------------------------------------------------------------------------------------------------------------------------------------------------------------------------------------------------------------------------------------------------------------------------------------------------------------------------------------------------------------------------------------------------------------------------------------------------------------------------------------------------------------------------------------------------------------------------------------------------------------------------------------------------------------------------------------------------------------------------------------------------------------------------------------------------------------------------------+-----------------------------------------------------------------------------------------------------------------------------------------------------------------------------------------------------------------------------------------------------------------------------------------------------------------------------------------------------------------------------------------------------------------------------------------------------------------------------------------------------------------------------------------------------------------------------------------------------------------------------------------------------------------------------------------------------------------------------------------------------------------------------------------------------------------------------------------------------------------------------------------------------------------------------------------------------------------------------------------------------------------------------------------------------------------------------------------------------------------------------------------------------------------------------------------------------------------------------------------------------------------------------------------------------------------------------------------------------------------------------------------------------------------------------------------------------------------------------------------------------------------------------------------------------------------------------------------------------------------------------------------------------------------------------------------------------------------------------------------------------------------------------------------------------------------------------------------------------------------------------------------------------------------------------------------------------------------------------------------------------------------------------------------------------------------------------------------------------------------------------------------------------------------------------------------------------------------------------------------------------------------------------------------------------------------------------------------------------------------------------------------------------------------------------+-----------------------------------------------------------------------------------------------------------------------------------------------------------------------------------------------------------------------------------------------------------------------------------------------------------------------------------------------------------------------------------------------------------------------------------------------------------------------------------------------------------------------------------------------------------------------------------------------------------------------------------------------------------------------------------------------------------------------------------------------------------------------------------------------------------------------------------------------------------------------------------------------------------------------------------------------------------------------------------------------------------------------------------------------------------------------------------------------------------------------------------------------------------------------------------------------------------------------------------------------------------------------------------------------------------------------------------------------------------------------------------------------------------------------------------------------------------------------------------------------------------------------------------------------------------------------------------------------------------------------------------------------------------------------------------------------------------------------------------------------------------------------------------------------------------------------------------------------------------------------------------------------------------------------------------------------------------------------------------------------------------------------------------------------------------------------+-----+------------------------------------------------------------+\n",
      "|fraudulent|concat_cols                                                                                                                                                                                                                                                                                                                                                                                                                                                                                                                                                                                                                                                                                                                                                                                                                                                                                                                                                                                                                                                                                                                                                                                                                                                                                                                                                                                                                                                                                                                                                                                                                                                                                                                                                                                                                                                                                                                                                                                                                                                                                                                  |words                                                                                                                                                                                                                                                                                                                                                                                                                                                                                                                                                                                                                                                                                                                                                                                                                                                                                                                                                                                                                                                                                                                                                                                                                                                                                                                                                                                                                                                                                                                                                                                                                                                                                                                                                                                                                                                                                                                                                                                                                                                                                                                                                                                                                                                                                                                                                                                                                        |filtered                                                                                                                                                                                                                                                                                                                                                                                                                                                                                                                                                                                                                                                                                                                                                                                                                                                                                                                                                                                                                                                                                                                                                                                                                                                                                                                                                                                                                                                                                                                                                                                                                                                                                                                                                                                                                                                                                                                                                                                                                                                               |label|features                                                    |\n",
      "+----------+-----------------------------------------------------------------------------------------------------------------------------------------------------------------------------------------------------------------------------------------------------------------------------------------------------------------------------------------------------------------------------------------------------------------------------------------------------------------------------------------------------------------------------------------------------------------------------------------------------------------------------------------------------------------------------------------------------------------------------------------------------------------------------------------------------------------------------------------------------------------------------------------------------------------------------------------------------------------------------------------------------------------------------------------------------------------------------------------------------------------------------------------------------------------------------------------------------------------------------------------------------------------------------------------------------------------------------------------------------------------------------------------------------------------------------------------------------------------------------------------------------------------------------------------------------------------------------------------------------------------------------------------------------------------------------------------------------------------------------------------------------------------------------------------------------------------------------------------------------------------------------------------------------------------------------------------------------------------------------------------------------------------------------------------------------------------------------------------------------------------------------+-----------------------------------------------------------------------------------------------------------------------------------------------------------------------------------------------------------------------------------------------------------------------------------------------------------------------------------------------------------------------------------------------------------------------------------------------------------------------------------------------------------------------------------------------------------------------------------------------------------------------------------------------------------------------------------------------------------------------------------------------------------------------------------------------------------------------------------------------------------------------------------------------------------------------------------------------------------------------------------------------------------------------------------------------------------------------------------------------------------------------------------------------------------------------------------------------------------------------------------------------------------------------------------------------------------------------------------------------------------------------------------------------------------------------------------------------------------------------------------------------------------------------------------------------------------------------------------------------------------------------------------------------------------------------------------------------------------------------------------------------------------------------------------------------------------------------------------------------------------------------------------------------------------------------------------------------------------------------------------------------------------------------------------------------------------------------------------------------------------------------------------------------------------------------------------------------------------------------------------------------------------------------------------------------------------------------------------------------------------------------------------------------------------------------------+-----------------------------------------------------------------------------------------------------------------------------------------------------------------------------------------------------------------------------------------------------------------------------------------------------------------------------------------------------------------------------------------------------------------------------------------------------------------------------------------------------------------------------------------------------------------------------------------------------------------------------------------------------------------------------------------------------------------------------------------------------------------------------------------------------------------------------------------------------------------------------------------------------------------------------------------------------------------------------------------------------------------------------------------------------------------------------------------------------------------------------------------------------------------------------------------------------------------------------------------------------------------------------------------------------------------------------------------------------------------------------------------------------------------------------------------------------------------------------------------------------------------------------------------------------------------------------------------------------------------------------------------------------------------------------------------------------------------------------------------------------------------------------------------------------------------------------------------------------------------------------------------------------------------------------------------------------------------------------------------------------------------------------------------------------------------------+-----+------------------------------------------------------------+\n",
      "|0         |customer service associate part time us or portland the customer service associate will be based in portland or the right candidate will be an integral part of our talented team supporting our continued growthresponsibilitiesanswer and dirent calls in a professional and timely manner perform various mail center activities sorting metering folding inserting delivery pickup etc lift heavy boxes files or paper when needed maintain the highest levels of customer care while demonstrating a friendly and cooperative attitude demonstrate flexibility in satisfying customer demands in a high volume production environment consistently adhere to business procedure guidelines adhere to all safety procedures take direction from supervisor or site manager maintain all logs and reporting documentation attention to detail participate in crosstraining and perform other duties as assigned filing outgoing shipments etc operating mailing copy or scanning equipment shipping amp receiving handle timesensitive material like confidential urgent packages perform other tasks as assigned scanning incoming mail to recipients perform file purges and pulls create files and ship files provide backfill when needed enter information daily into spreadsheets identify charges and match them to billing sort and deliver mail small packages minimum requirementsminimum of 6 months customer service related experience required high school diploma or equivalent ged required preferred qualificationskeyboarding and windows environment pc skills required word excel and power point preferred experience running mail posting equipment a plus excellent communication skills both verbal and written lifting up to 55 lbs with or without accommodations willingness and availability to work additional hours if assigned willingness to submit to a preemployment drug screening and criminal background check ability to effectively work individually or in a team environment competency in performing multiple functional tasks ability to meet employers attendance policy 0 1 0|[customer, service, associate, part, time, us, or, portland, the, customer, service, associate, will, be, based, in, portland, or, the, right, candidate, will, be, an, integral, part, of, our, talented, team, supporting, our, continued, growthresponsibilitiesanswer, and, dirent, calls, in, a, professional, and, timely, manner, perform, various, mail, center, activities, sorting, metering, folding, inserting, delivery, pickup, etc, lift, heavy, boxes, files, or, paper, when, needed, maintain, the, highest, levels, of, customer, care, while, demonstrating, a, friendly, and, cooperative, attitude, demonstrate, flexibility, in, satisfying, customer, demands, in, a, high, volume, production, environment, consistently, adhere, to, business, procedure, guidelines, adhere, to, all, safety, procedures, take, direction, from, supervisor, or, site, manager, maintain, all, logs, and, reporting, documentation, attention, to, detail, participate, in, crosstraining, and, perform, other, duties, as, assigned, filing, outgoing, shipments, etc, operating, mailing, copy, or, scanning, equipment, shipping, amp, receiving, handle, timesensitive, material, like, confidential, urgent, packages, perform, other, tasks, as, assigned, scanning, incoming, mail, to, recipients, perform, file, purges, and, pulls, create, files, and, ship, files, provide, backfill, when, needed, enter, information, daily, into, spreadsheets, identify, charges, and, match, them, to, billing, sort, and, deliver, mail, small, packages, minimum, requirementsminimum, of, 6, months, customer, service, related, experience, required, high, school, diploma, or, equivalent, ged, required, preferred, qualificationskeyboarding, and, windows, environment, pc, skills, required, word, excel, and, power, point, preferred, experience, running, mail, posting, equipment, a, plus, excellent, communication, skills, both, verbal, and, written, lifting, up, to, 55, lbs, with, or, without, accommodations, willingness, and, availability, to, work, additional, hours, if, assigned, willingness, to, submit, to, a, preemployment, drug, screening, and, criminal, background, check, ability, to, effectively, work, individually, or, in, a, team, environment, competency, in, performing, multiple, functional, tasks, ability, to, meet, employers, attendance, policy, 0, 1, 0]|[customer, service, associate, part, time, us, portland, customer, service, associate, based, portland, right, candidate, integral, part, talented, team, supporting, continued, growthresponsibilitiesanswer, dirent, calls, professional, timely, manner, perform, various, mail, center, activities, sorting, metering, folding, inserting, delivery, pickup, etc, lift, heavy, boxes, files, paper, needed, maintain, highest, levels, customer, care, demonstrating, friendly, cooperative, attitude, demonstrate, flexibility, satisfying, customer, demands, high, volume, production, environment, consistently, adhere, business, procedure, guidelines, adhere, safety, procedures, take, direction, supervisor, site, manager, maintain, logs, reporting, documentation, attention, detail, participate, crosstraining, perform, duties, assigned, filing, outgoing, shipments, etc, operating, mailing, copy, scanning, equipment, shipping, amp, receiving, handle, timesensitive, material, like, confidential, urgent, packages, perform, tasks, assigned, scanning, incoming, mail, recipients, perform, file, purges, pulls, create, files, ship, files, provide, backfill, needed, enter, information, daily, spreadsheets, identify, charges, match, billing, sort, deliver, mail, small, packages, minimum, requirementsminimum, 6, months, customer, service, related, experience, required, high, school, diploma, equivalent, ged, required, preferred, qualificationskeyboarding, windows, environment, pc, skills, required, word, excel, power, point, preferred, experience, running, mail, posting, equipment, plus, excellent, communication, skills, verbal, written, lifting, 55, lbs, without, accommodations, willingness, availability, work, additional, hours, assigned, willingness, submit, preemployment, drug, screening, criminal, background, check, ability, effectively, work, individually, team, environment, competency, performing, multiple, functional, tasks, ability, meet, employers, attendance, policy, 0, 1, 0]|0.0  |[-0.09496689166539823,0.9835234910232138,0.0624551004459719]|\n",
      "+----------+-----------------------------------------------------------------------------------------------------------------------------------------------------------------------------------------------------------------------------------------------------------------------------------------------------------------------------------------------------------------------------------------------------------------------------------------------------------------------------------------------------------------------------------------------------------------------------------------------------------------------------------------------------------------------------------------------------------------------------------------------------------------------------------------------------------------------------------------------------------------------------------------------------------------------------------------------------------------------------------------------------------------------------------------------------------------------------------------------------------------------------------------------------------------------------------------------------------------------------------------------------------------------------------------------------------------------------------------------------------------------------------------------------------------------------------------------------------------------------------------------------------------------------------------------------------------------------------------------------------------------------------------------------------------------------------------------------------------------------------------------------------------------------------------------------------------------------------------------------------------------------------------------------------------------------------------------------------------------------------------------------------------------------------------------------------------------------------------------------------------------------+-----------------------------------------------------------------------------------------------------------------------------------------------------------------------------------------------------------------------------------------------------------------------------------------------------------------------------------------------------------------------------------------------------------------------------------------------------------------------------------------------------------------------------------------------------------------------------------------------------------------------------------------------------------------------------------------------------------------------------------------------------------------------------------------------------------------------------------------------------------------------------------------------------------------------------------------------------------------------------------------------------------------------------------------------------------------------------------------------------------------------------------------------------------------------------------------------------------------------------------------------------------------------------------------------------------------------------------------------------------------------------------------------------------------------------------------------------------------------------------------------------------------------------------------------------------------------------------------------------------------------------------------------------------------------------------------------------------------------------------------------------------------------------------------------------------------------------------------------------------------------------------------------------------------------------------------------------------------------------------------------------------------------------------------------------------------------------------------------------------------------------------------------------------------------------------------------------------------------------------------------------------------------------------------------------------------------------------------------------------------------------------------------------------------------------+-----------------------------------------------------------------------------------------------------------------------------------------------------------------------------------------------------------------------------------------------------------------------------------------------------------------------------------------------------------------------------------------------------------------------------------------------------------------------------------------------------------------------------------------------------------------------------------------------------------------------------------------------------------------------------------------------------------------------------------------------------------------------------------------------------------------------------------------------------------------------------------------------------------------------------------------------------------------------------------------------------------------------------------------------------------------------------------------------------------------------------------------------------------------------------------------------------------------------------------------------------------------------------------------------------------------------------------------------------------------------------------------------------------------------------------------------------------------------------------------------------------------------------------------------------------------------------------------------------------------------------------------------------------------------------------------------------------------------------------------------------------------------------------------------------------------------------------------------------------------------------------------------------------------------------------------------------------------------------------------------------------------------------------------------------------------------+-----+------------------------------------------------------------+\n",
      "only showing top 1 row\n",
      "\n"
     ]
    }
   ],
   "source": [
    "# Word2Vec\n",
    "word2Vec = Word2Vec(vectorSize=3, minCount=0, inputCol=\"filtered\", outputCol=\"features\")\n",
    "model = word2Vec.fit(feature_data)\n",
    "\n",
    "W2VfeaturizedData = model.transform(feature_data)\n",
    "W2VfeaturizedData.show(1,False)"
   ]
  },
  {
   "cell_type": "markdown",
   "metadata": {},
   "source": [
    "## Feature scaling to the df"
   ]
  },
  {
   "cell_type": "code",
   "execution_count": 38,
   "metadata": {},
   "outputs": [],
   "source": [
    "from pyspark.ml.evaluation import BinaryClassificationEvaluator"
   ]
  },
  {
   "cell_type": "code",
   "execution_count": 30,
   "metadata": {},
   "outputs": [],
   "source": [
    "# W2Vec Dataframes typically has negative values so we will correct for that here so that we can use the Naive Bayes classifier\n",
    "scaler = MinMaxScaler(inputCol=\"features\", outputCol=\"scaledFeatures\")\n",
    "\n",
    "# Compute summary statistics and generate MinMaxScalerModel\n",
    "scalerModel = scaler.fit(W2VfeaturizedData)\n",
    "\n",
    "# rescale each feature to range [min, max].\n",
    "scaled_data = scalerModel.transform(W2VfeaturizedData)\n",
    "W2VfeaturizedData = scaled_data.select('fraudulent','concat_cols','label','scaledFeatures')\n",
    "W2VfeaturizedData = W2VfeaturizedData.withColumnRenamed('scaledFeatures','features')\n",
    "\n",
    "W2VfeaturizedData.name = 'W2VfeaturizedData' # We will need this to print later"
   ]
  },
  {
   "cell_type": "markdown",
   "metadata": {},
   "source": [
    "## Train and Evaluate your model"
   ]
  },
  {
   "cell_type": "code",
   "execution_count": 40,
   "metadata": {},
   "outputs": [],
   "source": [
    "def ClassTrainEval(classifier,features,classes,train,test):\n",
    "\n",
    "    def FindMtype(classifier):\n",
    "        # Intstantiate Model\n",
    "        M = classifier\n",
    "        # Learn what it is\n",
    "        Mtype = type(M).__name__\n",
    "        \n",
    "        return Mtype\n",
    "    \n",
    "    Mtype = FindMtype(classifier)\n",
    "    \n",
    "\n",
    "    def IntanceFitModel(Mtype,classifier,classes,features,train):\n",
    "        \n",
    "        if Mtype == \"OneVsRest\":\n",
    "            # instantiate the base classifier.\n",
    "            lr = LogisticRegression()\n",
    "            # instantiate the One Vs Rest Classifier.\n",
    "            OVRclassifier = OneVsRest(classifier=lr)\n",
    "#             fitModel = OVRclassifier.fit(train)\n",
    "            # Add parameters of your choice here:\n",
    "            paramGrid = ParamGridBuilder() \\\n",
    "                .addGrid(lr.regParam, [0.1, 0.01]) \\\n",
    "                .build()\n",
    "            #Cross Validator requires the following parameters:\n",
    "            crossval = CrossValidator(estimator=OVRclassifier,\n",
    "                                      estimatorParamMaps=paramGrid,\n",
    "                                      evaluator=MulticlassClassificationEvaluator(),\n",
    "                                      numFolds=2) # 3 is best practice\n",
    "            # Run cross-validation, and choose the best set of parameters.\n",
    "            fitModel = crossval.fit(train)\n",
    "            return fitModel\n",
    "        if Mtype == \"MultilayerPerceptronClassifier\":\n",
    "            # specify layers for the neural network:\n",
    "            # input layer of size features, two intermediate of features+1 and same size as features\n",
    "            # and output of size number of classes\n",
    "            # Note: crossvalidator cannot be used here\n",
    "            features_count = len(features[0][0])\n",
    "            layers = [features_count, features_count+1, features_count, classes]\n",
    "            MPC_classifier = MultilayerPerceptronClassifier(maxIter=100, layers=layers, blockSize=128, seed=1234)\n",
    "            fitModel = MPC_classifier.fit(train)\n",
    "            return fitModel\n",
    "        if Mtype in(\"LinearSVC\",\"GBTClassifier\") and classes != 2: # These classifiers currently only accept binary classification\n",
    "            print(Mtype,\" could not be used because PySpark currently only accepts binary classification data for this algorithm\")\n",
    "            return\n",
    "        if Mtype in(\"LogisticRegression\",\"NaiveBayes\",\"RandomForestClassifier\",\"GBTClassifier\",\"LinearSVC\",\"DecisionTreeClassifier\"):\n",
    "  \n",
    "            # Add parameters of your choice here:\n",
    "            if Mtype in(\"LogisticRegression\"):\n",
    "                paramGrid = (ParamGridBuilder() \\\n",
    "#                              .addGrid(classifier.regParam, [0.1, 0.01]) \\\n",
    "                             .addGrid(classifier.maxIter, [10, 15,20])\n",
    "                             .build())\n",
    "                \n",
    "            # Add parameters of your choice here:\n",
    "            if Mtype in(\"NaiveBayes\"):\n",
    "                paramGrid = (ParamGridBuilder() \\\n",
    "                             .addGrid(classifier.smoothing, [0.0, 0.2, 0.4, 0.6]) \\\n",
    "                             .build())\n",
    "                \n",
    "            # Add parameters of your choice here:\n",
    "            if Mtype in(\"RandomForestClassifier\"):\n",
    "                paramGrid = (ParamGridBuilder() \\\n",
    "                               .addGrid(classifier.maxDepth, [2, 5, 10])\n",
    "#                                .addGrid(classifier.maxBins, [5, 10, 20])\n",
    "#                                .addGrid(classifier.numTrees, [5, 20, 50])\n",
    "                             .build())\n",
    "                \n",
    "            # Add parameters of your choice here:\n",
    "            if Mtype in(\"GBTClassifier\"):\n",
    "                paramGrid = (ParamGridBuilder() \\\n",
    "#                              .addGrid(classifier.maxDepth, [2, 5, 10, 20, 30]) \\\n",
    "#                              .addGrid(classifier.maxBins, [10, 20, 40, 80, 100]) \\\n",
    "                             .addGrid(classifier.maxIter, [10, 15,50,100])\n",
    "                             .build())\n",
    "                \n",
    "            # Add parameters of your choice here:\n",
    "            if Mtype in(\"LinearSVC\"):\n",
    "                paramGrid = (ParamGridBuilder() \\\n",
    "                             .addGrid(classifier.maxIter, [10, 15]) \\\n",
    "                             .addGrid(classifier.regParam, [0.1, 0.01]) \\\n",
    "                             .build())\n",
    "            \n",
    "            # Add parameters of your choice here:\n",
    "            if Mtype in(\"DecisionTreeClassifier\"):\n",
    "                paramGrid = (ParamGridBuilder() \\\n",
    "#                              .addGrid(classifier.maxDepth, [2, 5, 10, 20, 30]) \\\n",
    "                             .addGrid(classifier.maxBins, [10, 20, 40, 80, 100]) \\\n",
    "                             .build())\n",
    "            \n",
    "            #Cross Validator requires all of the following parameters:\n",
    "            crossval = CrossValidator(estimator=classifier,\n",
    "                                      estimatorParamMaps=paramGrid,\n",
    "                                      evaluator=MulticlassClassificationEvaluator(),\n",
    "                                      numFolds=2) # 3 + is best practice\n",
    "            # Fit Model: Run cross-validation, and choose the best set of parameters.\n",
    "            fitModel = crossval.fit(train)\n",
    "            return fitModel\n",
    "    \n",
    "    fitModel = IntanceFitModel(Mtype,classifier,classes,features,train)\n",
    "    \n",
    "    # Print feature selection metrics\n",
    "    if fitModel is not None:\n",
    "        \n",
    "        if Mtype in(\"OneVsRest\"):\n",
    "            # Get Best Model\n",
    "            BestModel = fitModel.bestModel\n",
    "            print(\" \")\n",
    "            print('\\033[1m' + Mtype + '\\033[0m')\n",
    "            # Extract list of binary models\n",
    "            models = BestModel.models\n",
    "            for model in models:\n",
    "                print('\\033[1m' + 'Intercept: '+ '\\033[0m',model.intercept,'\\033[1m' + '\\nCoefficients:'+ '\\033[0m',model.coefficients)\n",
    "\n",
    "        if Mtype == \"MultilayerPerceptronClassifier\":\n",
    "            print(\"\")\n",
    "            print('\\033[1m' + Mtype,\" Weights\"+ '\\033[0m')\n",
    "            print('\\033[1m' + \"Model Weights: \"+ '\\033[0m',fitModel.weights.size)\n",
    "            print(\"\")\n",
    "\n",
    "        if Mtype in(\"DecisionTreeClassifier\", \"GBTClassifier\",\"RandomForestClassifier\"):\n",
    "            # FEATURE IMPORTANCES\n",
    "            # Estimate of the importance of each feature.\n",
    "            # Each feature’s importance is the average of its importance across all trees \n",
    "            # in the ensemble The importance vector is normalized to sum to 1. \n",
    "            # Get Best Model\n",
    "            BestModel = fitModel.bestModel\n",
    "            print(\" \")\n",
    "            print('\\033[1m' + Mtype,\" Feature Importances\"+ '\\033[0m')\n",
    "            print(\"(Scores add up to 1)\")\n",
    "            print(\"Lowest score is the least important\")\n",
    "            print(\" \")\n",
    "            print(BestModel.featureImportances)\n",
    "            \n",
    "            if Mtype in(\"DecisionTreeClassifier\"):\n",
    "                global DT_featureimportances\n",
    "                DT_featureimportances = BestModel.featureImportances.toArray()\n",
    "                global DT_BestModel\n",
    "                DT_BestModel = BestModel\n",
    "            if Mtype in(\"GBTClassifier\"):\n",
    "                global GBT_featureimportances\n",
    "                GBT_featureimportances = BestModel.featureImportances.toArray()\n",
    "                global GBT_BestModel\n",
    "                GBT_BestModel = BestModel\n",
    "            if Mtype in(\"RandomForestClassifier\"):\n",
    "                global RF_featureimportances\n",
    "                RF_featureimportances = BestModel.featureImportances.toArray()\n",
    "                global RF_BestModel\n",
    "                RF_BestModel = BestModel\n",
    "\n",
    "        if Mtype in(\"LogisticRegression\"):\n",
    "            # Get Best Model\n",
    "            BestModel = fitModel.bestModel\n",
    "            print(\" \")\n",
    "            print('\\033[1m' + Mtype,\" Coefficient Matrix\"+ '\\033[0m')\n",
    "            print(\"You should compares these relative to eachother\")\n",
    "            print(\"Coefficients: \\n\" + str(BestModel.coefficientMatrix))\n",
    "            print(\"Intercept: \" + str(BestModel.interceptVector))\n",
    "            global LR_coefficients\n",
    "            LR_coefficients = BestModel.coefficientMatrix.toArray()\n",
    "            global LR_BestModel\n",
    "            LR_BestModel = BestModel\n",
    "\n",
    "        if Mtype in(\"LinearSVC\"):\n",
    "            # Get Best Model\n",
    "            BestModel = fitModel.bestModel\n",
    "            print(\" \")\n",
    "            print('\\033[1m' + Mtype,\" Coefficients\"+ '\\033[0m')\n",
    "            print(\"You should compares these relative to eachother\")\n",
    "            print(\"Coefficients: \\n\" + str(BestModel.coefficients))\n",
    "            global LSVC_coefficients\n",
    "            LSVC_coefficients = BestModel.coefficients.toArray()\n",
    "            global LSVC_BestModel\n",
    "            LSVC_BestModel = BestModel\n",
    "        \n",
    "   \n",
    "    # Set the column names to match the external results dataframe that we will join with later:\n",
    "    columns = ['Classifier', 'Result']\n",
    "    \n",
    "    if Mtype in(\"LinearSVC\",\"GBTClassifier\") and classes != 2:\n",
    "        Mtype = [Mtype] # make this a list\n",
    "        score = [\"N/A\"]\n",
    "        result = spark.createDataFrame(zip(Mtype,score), schema=columns)\n",
    "    else:\n",
    "        predictions = fitModel.transform(test)\n",
    "        binary_evaluator = BinaryClassificationEvaluator(metricName=\"areaUnderROC\") # redictionCol=\"prediction\",\n",
    "        auc =  (binary_evaluator.evaluate(predictions))*100\n",
    "        Mtype = [Mtype] # make this a string\n",
    "        score = [str(auc)] #make this a string and convert to a list\n",
    "        result = spark.createDataFrame(zip(Mtype,score), schema=columns)\n",
    "        result = result.withColumn('Result',result.Result.substr(0, 5))\n",
    "        \n",
    "    return result\n",
    "    #Also returns the fit model important scores or p values"
   ]
  },
  {
   "cell_type": "code",
   "execution_count": 36,
   "metadata": {},
   "outputs": [],
   "source": [
    "# Comment out Naive Bayes if your data still contains negative values\n",
    "classifiers = [\n",
    "                LogisticRegression()\n",
    "                ,OneVsRest()\n",
    "                ,LinearSVC()\n",
    "                ,NaiveBayes()\n",
    "                ,RandomForestClassifier()\n",
    "                ,GBTClassifier()\n",
    "                ,DecisionTreeClassifier()\n",
    "                ,MultilayerPerceptronClassifier()\n",
    "              ] \n",
    "\n",
    "featureDF_list = [W2VfeaturizedData]"
   ]
  },
  {
   "cell_type": "code",
   "execution_count": 41,
   "metadata": {},
   "outputs": [
    {
     "name": "stdout",
     "output_type": "stream",
     "text": [
      "\u001b[1mW2VfeaturizedData  Results:\u001b[0m\n",
      " \n",
      "\u001b[1mLogisticRegression  Coefficient Matrix\u001b[0m\n",
      "You should compares these relative to eachother\n",
      "Coefficients: \n",
      "DenseMatrix([[ 1.44915379,  3.91946469, -0.3920777 ]])\n",
      "\n",
      "Intercept: [-6.362818163161014]\n",
      " \n",
      "\u001b[1mOneVsRest\u001b[0m\n",
      "\u001b[1mIntercept: \u001b[0m 3.8568141179186304 \u001b[1m\n",
      "Coefficients:\u001b[0m [-0.12543884344599449,-1.077648634682996,-0.05592115439431127]\n",
      "\u001b[1mIntercept: \u001b[0m -3.8568141179186286 \u001b[1m\n",
      "Coefficients:\u001b[0m [0.12543884344599468,1.077648634682993,0.05592115439431121]\n",
      " \n",
      "\u001b[1mLinearSVC  Coefficients\u001b[0m\n",
      "You should compares these relative to eachother\n",
      "Coefficients: \n",
      "[-0.009401995175700818,0.00396192522997506,0.004415934519580263]\n",
      " \n",
      "\u001b[1mRandomForestClassifier  Feature Importances\u001b[0m\n",
      "(Scores add up to 1)\n",
      "Lowest score is the least important\n",
      " \n",
      "(3,[0,1,2],[0.31578453891125424,0.35788378521377556,0.32633167587497025])\n",
      " \n",
      "\u001b[1mGBTClassifier  Feature Importances\u001b[0m\n",
      "(Scores add up to 1)\n",
      "Lowest score is the least important\n",
      " \n",
      "(3,[0,1,2],[0.3412704322337057,0.32350865671239765,0.3352209110538967])\n",
      " \n",
      "\u001b[1mDecisionTreeClassifier  Feature Importances\u001b[0m\n",
      "(Scores add up to 1)\n",
      "Lowest score is the least important\n",
      " \n",
      "(3,[0,1],[0.11036602516959008,0.88963397483041])\n",
      "\n",
      "\u001b[1mMultilayerPerceptronClassifier  Weights\u001b[0m\n",
      "\u001b[1mModel Weights: \u001b[0m 39\n",
      "\n",
      "+------------------------------+------+\n",
      "|Classifier                    |Result|\n",
      "+------------------------------+------+\n",
      "|LogisticRegression            |56.55 |\n",
      "|OneVsRest                     |56.86 |\n",
      "|LinearSVC                     |56.07 |\n",
      "|NaiveBayes                    |57.10 |\n",
      "|RandomForestClassifier        |81.46 |\n",
      "|GBTClassifier                 |81.38 |\n",
      "|DecisionTreeClassifier        |63.56 |\n",
      "|MultilayerPerceptronClassifier|77.20 |\n",
      "+------------------------------+------+\n",
      "\n",
      "None\n"
     ]
    }
   ],
   "source": [
    "for featureDF in featureDF_list:\n",
    "    print('\\033[1m' + featureDF.name,\" Results:\"+ '\\033[0m')\n",
    "    train, test = featureDF.randomSplit([0.7, 0.3],seed = 11)\n",
    "    features = featureDF.select(['features']).collect()\n",
    "    # Learn how many classes there are in order to specify evaluation type based on binary or multi and turn the df into an object\n",
    "    class_count = featureDF.select(countDistinct(\"label\")).collect()\n",
    "    classes = class_count[0][0]\n",
    "\n",
    "    #set up your results table\n",
    "    columns = ['Classifier', 'Result']\n",
    "    vals = [(\"Place Holder\",\"N/A\")]\n",
    "    results = spark.createDataFrame(vals, columns)\n",
    "\n",
    "    for classifier in classifiers:\n",
    "        new_result = ClassTrainEval(classifier,features,classes,train,test)\n",
    "        results = results.union(new_result)\n",
    "    results = results.where(\"Classifier!='Place Holder'\")\n",
    "    print(results.show(truncate=False))"
   ]
  },
  {
   "cell_type": "markdown",
   "metadata": {},
   "source": [
    "Looks like the RandomForestClassifier with the W2VfeaturizedData was our best performing feature list/classifier combo. Let's go with that and create our final model and play around with the test dataframe."
   ]
  },
  {
   "cell_type": "code",
   "execution_count": 47,
   "metadata": {},
   "outputs": [
    {
     "data": {
      "text/plain": [
       "RandomForestClassificationModel: uid=RandomForestClassifier_8cfbb8ad7276, numTrees=20, numClasses=2, numFeatures=3"
      ]
     },
     "execution_count": 47,
     "metadata": {},
     "output_type": "execute_result"
    }
   ],
   "source": [
    "RF_BestModel"
   ]
  },
  {
   "cell_type": "markdown",
   "metadata": {},
   "source": [
    "## Let's see some results!"
   ]
  },
  {
   "cell_type": "code",
   "execution_count": 48,
   "metadata": {},
   "outputs": [
    {
     "name": "stdout",
     "output_type": "stream",
     "text": [
      "Predicted Failures:\n",
      "+----------+-----------------------------------------------------------------------------------------------------------------------------------------------------------------------------------------------------------------------------------------------------------------------------------------------------------------------------------------------------------------------------------------------------------------------------------------------------------------------------------------------------------------------------------------------------------------------------------------------------------------------------------------------------------------------------------------------------------------------------------------------------------------------------------------------------------------------------------------------------------------------------------------------------------------------------------------------------------------------------------------------------------------------------------------------------------------------------------------------------------------------------------------------------------------------------------------------------------------------------------------------------------------------------------------------------------------------------------------------------------------------------------------------------------------------------------------------------------------------------------------------------------------------------------------------------------------------------------------------------------------------------------------------------------------------------------------------------------------------------------------------------------------------------------------------------------------------------------------------------------------------------------------------------------------------------------------------------------------------------------------------------------------------------------------------------------------------------------------------------------------------------------------------------------------------------------------------------------------------------------------------------------------------------------------------------------------------------------------------------------------------------------------------------------------------------------------------------------------------------------------------------------------------------------------------------------------------------------------------------------------------------------------------------------------------------------------------------------------------------------------------------------------------------------------------------------------------------------------------------------------------------------------------------------------------------------------------------------------------------------------------------------------------------------------------------+\n",
      "|fraudulent|concat_cols                                                                                                                                                                                                                                                                                                                                                                                                                                                                                                                                                                                                                                                                                                                                                                                                                                                                                                                                                                                                                                                                                                                                                                                                                                                                                                                                                                                                                                                                                                                                                                                                                                                                                                                                                                                                                                                                                                                                                                                                                                                                                                                                                                                                                                                                                                                                                                                                                                                                                                                                                                                                                                                                                                                                                                                                                                                                                                                                                                                                                                          |\n",
      "+----------+-----------------------------------------------------------------------------------------------------------------------------------------------------------------------------------------------------------------------------------------------------------------------------------------------------------------------------------------------------------------------------------------------------------------------------------------------------------------------------------------------------------------------------------------------------------------------------------------------------------------------------------------------------------------------------------------------------------------------------------------------------------------------------------------------------------------------------------------------------------------------------------------------------------------------------------------------------------------------------------------------------------------------------------------------------------------------------------------------------------------------------------------------------------------------------------------------------------------------------------------------------------------------------------------------------------------------------------------------------------------------------------------------------------------------------------------------------------------------------------------------------------------------------------------------------------------------------------------------------------------------------------------------------------------------------------------------------------------------------------------------------------------------------------------------------------------------------------------------------------------------------------------------------------------------------------------------------------------------------------------------------------------------------------------------------------------------------------------------------------------------------------------------------------------------------------------------------------------------------------------------------------------------------------------------------------------------------------------------------------------------------------------------------------------------------------------------------------------------------------------------------------------------------------------------------------------------------------------------------------------------------------------------------------------------------------------------------------------------------------------------------------------------------------------------------------------------------------------------------------------------------------------------------------------------------------------------------------------------------------------------------------------------------------------------------+\n",
      "|0         |3month paid marketing and pr internship gb london transfer wise is a vcbacked international money transfer startup founded by skypes former director of strategy taavet hinrikusfrom the tea building in shoreditch were starting a little revolution were using technology to allow people to send money abroad without incurring punitive bank feesthe trouble is not everyone knows the banks are ripping them off so we need someone to help us run educational campaigns we want the personal finance press expats international students and the world more generally to know theyre being taken for a ridewere already making progress the times said we pose a challenge to the banks city am said were transforming how we transfer money and the telegraph said were set to spark a revolution were looking for someone super confident with great writing skills to join us youll be devising strategies and putting them into practice straight away very little photocopying coffeemaking or filing here this will be decent work experience with a friendly team that will take care of you not to mention take you out for lunch every friday and better still the company is growing so fast theres a real prospect of a job in the future if you prove invaluable 0 1 0                                                                                                                                                                                                                                                                                                                                                                                                                                                                                                                                                                                                                                                                                                                                                                                                                                                                                                                                                                                                                                                                                                                                                                                                                                                                                                                                                                                                                                                                                                                                                                                                                                                                                                                                                             |\n",
      "|0         |academic tutor upper level math or science us ca sherman oaks an established tutoring company is seeking bright energetic tutors for the 20142015 academic school yearacademic tutors provide individual and small group tutoring to students at the center or at the students homeassist students in improving their academic achievement by meeting with them on a consistent and timely basis to clarify learning concepts and to improve their study habits and skills help the students devise a study plan that fits their individual needsprepare tutoring sessions to ensure the students academic developmentassess the students progress throughout tutoring sessions other assistance might include reviewing class material discussing the text predicting test questions formulating ideas for papers or working on solutions to problemsinterested applicants submit your resume and respond to the following questions available to teach 1520 hours after school and weekends to middle and high school students qualificationsba bs from a 4 year university ability to tutor upper level mathematics up to calculus and or science courses up to apchemistry punctual dedication energy motivation 0 1 1                                                                                                                                                                                                                                                                                                                                                                                                                                                                                                                                                                                                                                                                                                                                                                                                                                                                                                                                                                                                                                                                                                                                                                                                                                                                                                                                                                                                                                                                                                                                                                                                                                                                                                                                                                                                                           |\n",
      "|0         |account manager outside sales professional us nj morristown the account manager outside sales professionalfor geeks123 will be directly responsible for selling our packaged solutions of it hardware software and services the territory will be the greater new york area the objective is to sell an aggregation of geeks123 solutions that meet the marketing objectives while producing monthly revenues for geeks123 this is a direct sales role with a revenue goal and commission plan this individual will report to the top management of geeks123key responsibilities identify and close new business with target companies while achieving surpassing quarterly revenue targetswork closely with new customers and best prospects to deliver solutions that solve their specific business challenges of driving greater operational efficiency increased productivity and profitabilitycultivate strong relationships with senior executives at target companies through both inperson meetings and other communication channels that enable you to close business and generate monthly revenue drive awareness of geeks123 brand and value proposition desired skillsexperience in selling solutions like softwarepackages it hardware network hardware andvoip service packageproven track record of closing deals in strategic sales for multiple location offices exceptional negotiator and selling into clevel executives design and or present proposals presentations and necessary agreements for prospects and clients assist in any past due collections needed for managed service clientsattend any daily weekly and or monthly meetings with sales director and or ceoattend geeks123 sponsored industry charity or educational sales and business development events keep up to date on industry related news and technology update all activities time sheets and sales processes within crmdevelop relationships with managed service clients and prospects maintain relationships with clients maintain technology and selling skills as industry changes attend all necessary company sponsored or third part sponsored training events required skills and knowledge ability to perform public speaking and presentations on geeks123 products solutions and servicesinterpersonal skills such as telephony skills communication skills active listening and customercare ability to multitask and adapt to changes quickly technical awareness ability to match resources to technical issues appropriately understanding of support tools techniques and how technology is used to provide it services typing skills to ensure quick and accurate entry of service request details selfmotivated with the ability to work in a fast moving environment ability to keep up on necessary ongoing industry related training ability to create crm sales and marketing tracks ability to implement marketing strategy using crm sales tracks100 knowledge of crm software and ability to demonstrate crm software 1 0 0|\n",
      "+----------+-----------------------------------------------------------------------------------------------------------------------------------------------------------------------------------------------------------------------------------------------------------------------------------------------------------------------------------------------------------------------------------------------------------------------------------------------------------------------------------------------------------------------------------------------------------------------------------------------------------------------------------------------------------------------------------------------------------------------------------------------------------------------------------------------------------------------------------------------------------------------------------------------------------------------------------------------------------------------------------------------------------------------------------------------------------------------------------------------------------------------------------------------------------------------------------------------------------------------------------------------------------------------------------------------------------------------------------------------------------------------------------------------------------------------------------------------------------------------------------------------------------------------------------------------------------------------------------------------------------------------------------------------------------------------------------------------------------------------------------------------------------------------------------------------------------------------------------------------------------------------------------------------------------------------------------------------------------------------------------------------------------------------------------------------------------------------------------------------------------------------------------------------------------------------------------------------------------------------------------------------------------------------------------------------------------------------------------------------------------------------------------------------------------------------------------------------------------------------------------------------------------------------------------------------------------------------------------------------------------------------------------------------------------------------------------------------------------------------------------------------------------------------------------------------------------------------------------------------------------------------------------------------------------------------------------------------------------------------------------------------------------------------------------------------------+\n",
      "only showing top 3 rows\n",
      "\n",
      " \n",
      "Predicted Success:\n",
      "+----------+--------------------------------------------------------------------------------------------------------------------------------------------------------------------------------------------------------------------------------------------------------------------------------------------------------------------------------------------------------------------------------------------------------------------------------------------------------------------------------------------------------------------------------------------------------------------------------------------------------------------------------------------------------------------------------------------------------------------------------------------------------------------------------------------------------------------------------------------+\n",
      "|fraudulent|concat_cols                                                                                                                                                                                                                                                                                                                                                                                                                                                                                                                                                                                                                                                                                                                                                                                                                                 |\n",
      "+----------+--------------------------------------------------------------------------------------------------------------------------------------------------------------------------------------------------------------------------------------------------------------------------------------------------------------------------------------------------------------------------------------------------------------------------------------------------------------------------------------------------------------------------------------------------------------------------------------------------------------------------------------------------------------------------------------------------------------------------------------------------------------------------------------------------------------------------------------------+\n",
      "|1         |data entry clerk us ga north atlanta we are seeking individuals to be connected with companies who are hiring employees directly to work from their homes you will find both fulltime and parttime opportunities in a variety of career fields including but not limited to data entry customer support billing typing and administrativethese positions guarantee wages ranging from 12 per hour up to six figure salary this includes bonuses benefits and flexibility over your work schedulelegitimate work from home jobs are going to require that you have skills relevant to the position youre applying for training is provided based on the position home office supplies computer with internet access quiet work area away from distractions must be able to work independently and get the job done with little guidance 1 0 0|\n",
      "|1         |home based payroll typist data entry clerks positions available us md accident we have several openings available in this area earning 100000250000 per weekwe are seeking only honest selfmotivated people with a desire to work in the home typing and data entry field from the comfort of their own homesthe preferred applicants should be at least 18 years old with internet access no experience is needed however the following skills are desirable basic computer and typing skills ability to spell and print neatly ability to follow directions 0 0 0                                                                                                                                                                                                                                                                         |\n",
      "|1         |payroll data coordinator positions earn 100200 daily us md aberdeen we are a fullservice marketing and staffing firm serving companies ranging from fortune 100 to new startup organizations we work with job seekers in an equally broad range from light industrial temporary workers to executive level candidatesare you looking for a work from home opportunity where you can earn up to 2500 and more per week our online service representative position would be perfect for you set your own hours make money every time you decide to work work remotely from home get paid weekly if you have a computer with internet this is for you requirements all you need is access to the internet and you can participatecomputer with internet access valid email address good typing skills 0 0 0                                    |\n",
      "+----------+--------------------------------------------------------------------------------------------------------------------------------------------------------------------------------------------------------------------------------------------------------------------------------------------------------------------------------------------------------------------------------------------------------------------------------------------------------------------------------------------------------------------------------------------------------------------------------------------------------------------------------------------------------------------------------------------------------------------------------------------------------------------------------------------------------------------------------------------+\n",
      "only showing top 3 rows\n",
      "\n"
     ]
    }
   ],
   "source": [
    "predictions = RF_BestModel.transform(test)\n",
    "print(\"Predicted Failures:\")\n",
    "predictions.select(\"fraudulent\",\"concat_cols\").filter(\"prediction=0\").orderBy(predictions[\"prediction\"].desc()).show(3,False)\n",
    "print(\" \")\n",
    "print(\"Predicted Success:\")\n",
    "predictions.select(\"fraudulent\",\"concat_cols\").filter(\"prediction=1\").orderBy(predictions[\"prediction\"].desc()).show(3,False)"
   ]
  },
  {
   "cell_type": "code",
   "execution_count": 49,
   "metadata": {},
   "outputs": [],
   "source": [
    "# this path will create the folder if it does not exist\n",
    "# I also like to create a unique identifier using a timestamp so i know when the model was created\n",
    "from datetime import datetime\n",
    "timestamp = str(datetime.now()) #return local time\n",
    "path = 'Models/RFModel_'+timestamp\n",
    "RF_BestModel.save(path)"
   ]
  },
  {
   "cell_type": "code",
   "execution_count": null,
   "metadata": {},
   "outputs": [],
   "source": []
  }
 ],
 "metadata": {
  "colab": {
   "provenance": []
  },
  "kernelspec": {
   "display_name": "Python 3 (ipykernel)",
   "language": "python",
   "name": "python3"
  },
  "language_info": {
   "codemirror_mode": {
    "name": "ipython",
    "version": 3
   },
   "file_extension": ".py",
   "mimetype": "text/x-python",
   "name": "python",
   "nbconvert_exporter": "python",
   "pygments_lexer": "ipython3",
   "version": "3.10.8"
  }
 },
 "nbformat": 4,
 "nbformat_minor": 4
}
